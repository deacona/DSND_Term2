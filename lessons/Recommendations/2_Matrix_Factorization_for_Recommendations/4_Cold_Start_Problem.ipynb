{
 "cells": [
  {
   "cell_type": "markdown",
   "metadata": {},
   "source": [
    "### Cold Start Problem\n",
    "\n",
    "In the previous notebook, you learned about the **Cold Start Problem** first hand. In cases where you are introduced to a new user or new movie, collaborative flitering is not helpful as a technique to make predictions.\n",
    "\n",
    "Instead, you will need to use one of the techniques from the previous lesson like content based recommendations for new items or rank based recommendations for new users.  \n",
    "\n",
    "As a final step to completing out our recommendation system, we will build in these edge cases. Run the cell below to get started.\n",
    "\n",
    "### Matrix Factorization - Collaborative Filtering Where Possible\n",
    "\n",
    "Notice the following information is available by running the below cell:\n",
    "\n",
    "`1.` **reviews** - a dataframe of reviews\n",
    "\n",
    "`2.` **movies** - a dataframe of movies\n",
    "\n",
    "`3.` **create_train_test** - a function for creating the training and validation datasets\n",
    "\n",
    "`4.` **predict_rating** - a function that takes a user and movie and gives a prediction using FunkSVD\n",
    "\n",
    "`5.` **train_df** and **val_df** - the training and test datasets used in the previous notebook\n",
    "\n",
    "`6.` **user_mat** and **movie_mat** - the u and v matrices from FunkSVD\n",
    "\n",
    "`7.` **train_data_df** - a user-movie matrix with ratings where available.  FunkSVD was performed on this matrix"
   ]
  },
  {
   "cell_type": "code",
   "execution_count": 2,
   "metadata": {},
   "outputs": [],
   "source": [
    "import numpy as np\n",
    "import pandas as pd\n",
    "import matplotlib.pyplot as plt\n",
    "import seaborn as sns\n",
    "%matplotlib inline\n",
    "import pickle\n",
    "\n",
    "# Read in the datasets\n",
    "movies = pd.read_csv('data/movies_clean.csv')\n",
    "reviews = pd.read_csv('data/reviews_clean.csv')\n",
    "\n",
    "del movies['Unnamed: 0']\n",
    "del reviews['Unnamed: 0']\n",
    "\n",
    "def create_train_test(reviews, order_by, training_size, testing_size):\n",
    "    '''    \n",
    "    INPUT:\n",
    "    reviews - (pandas df) dataframe to split into train and test\n",
    "    order_by - (string) column name to sort by\n",
    "    training_size - (int) number of rows in training set\n",
    "    testing_size - (int) number of columns in the test set\n",
    "    \n",
    "    OUTPUT:\n",
    "    training_df -  (pandas df) dataframe of the training set\n",
    "    validation_df - (pandas df) dataframe of the test set\n",
    "    '''\n",
    "    reviews_new = reviews.sort_values(order_by)\n",
    "    training_df = reviews_new.head(training_size)\n",
    "    validation_df = reviews_new.iloc[training_size:training_size+testing_size]\n",
    "    \n",
    "    return training_df, validation_df\n",
    "\n",
    "def predict_rating(user_matrix, movie_matrix, user_id, movie_id):\n",
    "    '''\n",
    "    INPUT:\n",
    "    user_matrix - user by latent factor matrix\n",
    "    movie_matrix - latent factor by movie matrix\n",
    "    user_id - the user_id from the reviews df\n",
    "    movie_id - the movie_id according the movies df\n",
    "    \n",
    "    OUTPUT:\n",
    "    pred - the predicted rating for user_id-movie_id according to FunkSVD\n",
    "    '''\n",
    "    # Create series of users and movies in the right order\n",
    "    user_ids_series = np.array(train_data_df.index)\n",
    "    movie_ids_series = np.array(train_data_df.columns)\n",
    "    \n",
    "    # User row and Movie Column\n",
    "    user_row = np.where(user_ids_series == user_id)[0][0]\n",
    "    movie_col = np.where(movie_ids_series == movie_id)[0][0]\n",
    "    \n",
    "    # Take dot product of that row and column in U and V to make prediction\n",
    "    pred = np.dot(user_matrix[user_row, :], movie_matrix[:, movie_col])\n",
    "    \n",
    "    return pred\n",
    "\n",
    "# Use our function to create training and test datasets\n",
    "train_df, val_df = create_train_test(reviews, 'date', 8000, 2000)\n",
    "\n",
    "# Create user-by-item matrix - this will keep track of order of users and movies in u and v\n",
    "train_user_item = train_df[['user_id', 'movie_id', 'rating', 'timestamp']]\n",
    "train_data_df = train_user_item.groupby(['user_id', 'movie_id'])['rating'].max().unstack()\n",
    "train_data_np = np.array(train_data_df)\n",
    "\n",
    "# Read in user and movie matrices\n",
    "user_file = open(\"user_matrix\", 'rb')\n",
    "user_mat = pickle.load(user_file)\n",
    "user_file.close()\n",
    "\n",
    "movie_file = open(\"movie_matrix\", 'rb')\n",
    "movie_mat = pickle.load(movie_file)\n",
    "movie_file.close()"
   ]
  },
  {
   "cell_type": "markdown",
   "metadata": {},
   "source": [
    "### Validating Predictions\n",
    "\n",
    "Unfortunately, you weren't able to make predictions on every user-movie combination in the test set, as some of these users or movies were new.  \n",
    "\n",
    "However, you can validate your predictions for the user-movie pairs that do exist in the user_mat and movie_mat matrices.  \n",
    "\n",
    "`1.` Complete the function below to see how far off we were on average across all of the predicted ratings."
   ]
  },
  {
   "cell_type": "code",
   "execution_count": 3,
   "metadata": {},
   "outputs": [],
   "source": [
    "def validation_comparison(val_df, user_mat=user_mat, movie_mat=movie_mat):\n",
    "    '''\n",
    "    INPUT:\n",
    "    val_df - the validation dataset created in the third cell above\n",
    "    user_mat - U matrix in FunkSVD\n",
    "    movie_mat - V matrix in FunkSVD\n",
    "        \n",
    "    OUTPUT:\n",
    "    rmse - RMSE of how far off each value is from it's predicted value\n",
    "    perc_rated - percent of predictions out of all possible that could be rated\n",
    "    actual_v_pred - a 10 x 10 grid with counts for actual vs predicted values\n",
    "    preds - (list) predictions for any user-movie pairs where it was possible to make a prediction\n",
    "    acts - (list) actual values for any user-movie pairs where it was possible to make a prediction\n",
    "    '''\n",
    "        \n",
    "    val_users = np.array(val_df['user_id'])\n",
    "    val_movies = np.array(val_df['movie_id'])\n",
    "    val_ratings = np.array(val_df['rating'])\n",
    "    \n",
    "    sse = 0\n",
    "    num_rated = 0\n",
    "    preds, acts = [], []\n",
    "    actual_v_pred = np.zeros((10,10))\n",
    "    for idx in range(len(val_users)):\n",
    "        try:\n",
    "            pred = predict_rating(user_mat, movie_mat, val_users[idx], val_movies[idx])\n",
    "            sse += (val_ratings[idx] - pred)**2\n",
    "            num_rated+=1\n",
    "            preds.append(pred)\n",
    "            acts.append(val_ratings[idx])\n",
    "            actual_v_pred[11-int(val_ratings[idx]-1), int(round(pred)-1)]+=1\n",
    "        \n",
    "        except:\n",
    "            continue\n",
    "    \n",
    "    rmse = np.sqrt(sse/num_rated)\n",
    "    perc_rated = num_rated/len(val_users)\n",
    "\n",
    "    return rmse, perc_rated, actual_v_pred, preds, acts"
   ]
  },
  {
   "cell_type": "code",
   "execution_count": 4,
   "metadata": {},
   "outputs": [],
   "source": [
    "# How well did we do? # Make some plots and calculate some statistics to \n",
    "# understand how well this technique is working\n",
    "rmse, perc_rated, actual_v_pred, preds, acts = validation_comparison(val_df)"
   ]
  },
  {
   "cell_type": "code",
   "execution_count": 5,
   "metadata": {},
   "outputs": [
    {
     "data": {
      "text/plain": [
       "2.04861637989704"
      ]
     },
     "execution_count": 5,
     "metadata": {},
     "output_type": "execute_result"
    }
   ],
   "source": [
    "rmse"
   ]
  },
  {
   "cell_type": "code",
   "execution_count": 6,
   "metadata": {},
   "outputs": [
    {
     "data": {
      "text/plain": [
       "0.4795"
      ]
     },
     "execution_count": 6,
     "metadata": {},
     "output_type": "execute_result"
    }
   ],
   "source": [
    "perc_rated"
   ]
  },
  {
   "cell_type": "code",
   "execution_count": 7,
   "metadata": {},
   "outputs": [
    {
     "data": {
      "text/plain": [
       "array([[  0.,   0.,   0.,   0.,   0.,   0.,   0.,   0.,   0.,   0.],\n",
       "       [  0.,   0.,   0.,   0.,   0.,   0.,   0.,   0.,   0.,   0.],\n",
       "       [  0.,   0.,   2.,   2.,   7.,   5.,  10.,  15.,  13.,  10.],\n",
       "       [  0.,   0.,   0.,   4.,   9.,  12.,  31.,  32.,  27.,   8.],\n",
       "       [  1.,   1.,   1.,   9.,  19.,  35.,  71.,  57.,  18.,  10.],\n",
       "       [  0.,   0.,   1.,  16.,  26.,  59.,  81.,  33.,  19.,   8.],\n",
       "       [  2.,   1.,   1.,   6.,  36.,  31.,  33.,  16.,   5.,   7.],\n",
       "       [  0.,   0.,   0.,   8.,  10.,  24.,  20.,   5.,   7.,   0.],\n",
       "       [  0.,   2.,   4.,   3.,   5.,   8.,  10.,   2.,   2.,   1.],\n",
       "       [  0.,   0.,   1.,   2.,   1.,   4.,   3.,   2.,   0.,   0.]])"
      ]
     },
     "execution_count": 7,
     "metadata": {},
     "output_type": "execute_result"
    }
   ],
   "source": [
    "actual_v_pred"
   ]
  },
  {
   "cell_type": "code",
   "execution_count": 8,
   "metadata": {},
   "outputs": [
    {
     "data": {
      "text/plain": [
       "<matplotlib.axes._subplots.AxesSubplot at 0x7fbe46c6d0f0>"
      ]
     },
     "execution_count": 8,
     "metadata": {},
     "output_type": "execute_result"
    },
    {
     "data": {
      "image/png": "[encoded data removed]",
      "text/plain": [
       "<matplotlib.figure.Figure at 0x7fbe46ce4be0>"
      ]
     },
     "metadata": {
      "needs_background": "light"
     },
     "output_type": "display_data"
    }
   ],
   "source": [
    "sns.heatmap(actual_v_pred)"
   ]
  },
  {
   "cell_type": "code",
   "execution_count": 9,
   "metadata": {},
   "outputs": [
    {
     "data": {
      "text/plain": [
       "[6.4862649414393783,\n",
       " 8.6145269653179781,\n",
       " 7.2606375176817197,\n",
       " 7.541311333625524,\n",
       " 7.9739704292093592,\n",
       " 3.4231228181781326,\n",
       " 3.9908798440892985,\n",
       " 6.4263010615865657,\n",
       " -1.0287991899832238,\n",
       " 8.6221363529900117]"
      ]
     },
     "execution_count": 9,
     "metadata": {},
     "output_type": "execute_result"
    }
   ],
   "source": [
    "preds[:10]"
   ]
  },
  {
   "cell_type": "code",
   "execution_count": 10,
   "metadata": {},
   "outputs": [
    {
     "data": {
      "text/plain": [
       "[8, 9, 9, 4, 8, 4, 8, 8, 4, 9]"
      ]
     },
     "execution_count": 10,
     "metadata": {},
     "output_type": "execute_result"
    }
   ],
   "source": [
    "acts[:10]"
   ]
  },
  {
   "cell_type": "code",
   "execution_count": 11,
   "metadata": {},
   "outputs": [
    {
     "data": {
      "image/png": "[encoded data removed]",
      "text/plain": [
       "<matplotlib.figure.Figure at 0x7fbe71385780>"
      ]
     },
     "metadata": {
      "needs_background": "light"
     },
     "output_type": "display_data"
    }
   ],
   "source": [
    "plt.scatter(acts, preds, s=100)\n",
    "plt.title(\"Actual vs Predicted Ratings\")\n",
    "plt.ylabel(\"Predictions\")\n",
    "plt.xlabel(\"Actual\")\n",
    "plt.show()"
   ]
  },
  {
   "cell_type": "code",
   "execution_count": null,
   "metadata": {},
   "outputs": [],
   "source": []
  },
  {
   "cell_type": "markdown",
   "metadata": {},
   "source": [
    "`2.` We didn't do so bad on making those predictions!  But, how many user-movie pairs were we unable to make predictions for?  Use the cell below to answer this question."
   ]
  },
  {
   "cell_type": "code",
   "execution_count": 12,
   "metadata": {},
   "outputs": [
    {
     "data": {
      "text/plain": [
       "(1906.1522419186654, 1756.0038424591739)"
      ]
     },
     "execution_count": 12,
     "metadata": {},
     "output_type": "execute_result"
    }
   ],
   "source": [
    "(np.sum(actual_v_pred) / perc_rated), (np.sum(actual_v_pred) / (1 - perc_rated))"
   ]
  },
  {
   "cell_type": "markdown",
   "metadata": {},
   "source": [
    "### Content Based For New Movies\n",
    "\n",
    "If all of the above went well, you will notice we still have work to do!  We need to bring in a few things we picked up from the last lesson to use for those new users and movies.  Below is the code used to make the content based recommendations, which found movies that were similar to one another.  This was from **5_Content_Based_Recommendations** in the previous lesson.\n",
    "\n",
    "The below function **find_similar_movies** will provide similar movies to any movie based only on content.  \n",
    "\n",
    "Run the cell below to gain access to the content based similarity functions."
   ]
  },
  {
   "cell_type": "code",
   "execution_count": 13,
   "metadata": {},
   "outputs": [],
   "source": [
    "# Subset so movie_content is only using the dummy variables for each genre and the 3 century based year dummy columns\n",
    "movie_content = np.array(movies.iloc[:,4:])\n",
    "\n",
    "# Take the dot product to obtain a movie x movie matrix of similarities\n",
    "dot_prod_movies = movie_content.dot(np.transpose(movie_content))\n",
    "\n",
    "\n",
    "def find_similar_movies(movie_id):\n",
    "    '''\n",
    "    INPUT\n",
    "    movie_id - a movie_id \n",
    "    OUTPUT\n",
    "    similar_movies - an array of the most similar movies by title\n",
    "    '''\n",
    "    # find the row of each movie id\n",
    "    movie_idx = np.where(movies['movie_id'] == movie_id)[0][0]\n",
    "    \n",
    "    # find the most similar movie indices - to start I said they need to be the same for all content\n",
    "    similar_idxs = np.where(dot_prod_movies[movie_idx] == np.max(dot_prod_movies[movie_idx]))[0]\n",
    "    \n",
    "    # pull the movie titles based on the indices\n",
    "    similar_movies = np.array(movies.iloc[similar_idxs, ]['movie'])\n",
    "    \n",
    "    return similar_movies\n",
    "    \n",
    "    \n",
    "def get_movie_names(movie_ids):\n",
    "    '''\n",
    "    INPUT\n",
    "    movie_ids - a list of movie_ids\n",
    "    OUTPUT\n",
    "    movies - a list of movie names associated with the movie_ids\n",
    "    \n",
    "    '''\n",
    "    movie_lst = list(movies[movies['movie_id'].isin(movie_ids)]['movie'])\n",
    "   \n",
    "    return movie_lst"
   ]
  },
  {
   "cell_type": "markdown",
   "metadata": {},
   "source": [
    "### Rank Based For New Users\n",
    "\n",
    "From the above two code cells, we have a way to make recommendations for movie-user pairs that have ratings in any part of our user-movie matrix.  We also have a way to make ratings for movies that have never received a rating using movie similarities.\n",
    "\n",
    "In this last part here, we need a way to make recommendations to new users.  For this, our functions from **2_Most_Popular_Recommendations** in Lesson 1 will come in handy.  Run the cell below to have these functions available.\n",
    "\n",
    "Run the cell below to gain access to the rank based functions."
   ]
  },
  {
   "cell_type": "code",
   "execution_count": 14,
   "metadata": {},
   "outputs": [],
   "source": [
    "def create_ranked_df(movies, reviews):\n",
    "        '''\n",
    "        INPUT\n",
    "        movies - the movies dataframe\n",
    "        reviews - the reviews dataframe\n",
    "        \n",
    "        OUTPUT\n",
    "        ranked_movies - a dataframe with movies that are sorted by highest avg rating, more reviews, \n",
    "                        then time, and must have more than 4 ratings\n",
    "        '''\n",
    "        \n",
    "        # Pull the average ratings and number of ratings for each movie\n",
    "        movie_ratings = reviews.groupby('movie_id')['rating']\n",
    "        avg_ratings = movie_ratings.mean()\n",
    "        num_ratings = movie_ratings.count()\n",
    "        last_rating = pd.DataFrame(reviews.groupby('movie_id').max()['date'])\n",
    "        last_rating.columns = ['last_rating']\n",
    "\n",
    "        # Add Dates\n",
    "        rating_count_df = pd.DataFrame({'avg_rating': avg_ratings, 'num_ratings': num_ratings})\n",
    "        rating_count_df = rating_count_df.join(last_rating)\n",
    "\n",
    "        # merge with the movies dataset\n",
    "        movie_recs = movies.set_index('movie_id').join(rating_count_df)\n",
    "\n",
    "        # sort by top avg rating and number of ratings\n",
    "        ranked_movies = movie_recs.sort_values(['avg_rating', 'num_ratings', 'last_rating'], ascending=False)\n",
    "\n",
    "        # for edge cases - subset the movie list to those with only 5 or more reviews\n",
    "        ranked_movies = ranked_movies[ranked_movies['num_ratings'] > 4]\n",
    "        \n",
    "        return ranked_movies\n",
    "    \n",
    "\n",
    "def popular_recommendations(user_id, n_top, ranked_movies):\n",
    "    '''\n",
    "    INPUT:\n",
    "    user_id - the user_id (str) of the individual you are making recommendations for\n",
    "    n_top - an integer of the number recommendations you want back\n",
    "    ranked_movies - a pandas dataframe of the already ranked movies based on avg rating, count, and time\n",
    "\n",
    "    OUTPUT:\n",
    "    top_movies - a list of the n_top recommended movies by movie title in order best to worst\n",
    "    '''\n",
    "\n",
    "    top_movies = list(ranked_movies['movie'][:n_top])\n",
    "\n",
    "    return top_movies\n",
    "        "
   ]
  },
  {
   "cell_type": "markdown",
   "metadata": {},
   "source": [
    "### Now For Your Task\n",
    "\n",
    "The above cells set up everything we need to use to make predictions.  Your task is to write a function, which uses the above information as necessary to provide recommendations for every user in the **val_df** dataframe.  There isn't one right way to do this, but using a blend between the three could be your best bet.  \n",
    "\n",
    "You can see the blended approach I used in the video on the next page, but feel free to be creative with your solution!\n",
    "\n",
    "`3.` Use the function below along with the document strings to assist with completing the task for this notebook.  "
   ]
  },
  {
   "cell_type": "code",
   "execution_count": 15,
   "metadata": {},
   "outputs": [
    {
     "data": {
      "text/plain": [
       "((3278, 2679), (8000, 23))"
      ]
     },
     "execution_count": 15,
     "metadata": {},
     "output_type": "execute_result"
    }
   ],
   "source": [
    "train_data_df.shape, train_df.shape"
   ]
  },
  {
   "cell_type": "code",
   "execution_count": 16,
   "metadata": {
    "scrolled": true
   },
   "outputs": [
    {
     "data": {
      "text/plain": [
       "Int64Index([    8,    46,    48,    51,    66,    72,    90,   104,   112,\n",
       "              130,\n",
       "            ...\n",
       "            53744, 53793, 53795, 53805, 53838, 53856, 53932, 53943, 53962,\n",
       "            53966],\n",
       "           dtype='int64', name='user_id', length=3278)"
      ]
     },
     "execution_count": 16,
     "metadata": {},
     "output_type": "execute_result"
    }
   ],
   "source": [
    "train_data_df.index"
   ]
  },
  {
   "cell_type": "code",
   "execution_count": 19,
   "metadata": {},
   "outputs": [
    {
     "data": {
      "text/plain": [
       "0"
      ]
     },
     "execution_count": 19,
     "metadata": {},
     "output_type": "execute_result"
    }
   ],
   "source": [
    "np.where(train_data_df.index == 8)[0][0]"
   ]
  },
  {
   "cell_type": "code",
   "execution_count": 26,
   "metadata": {},
   "outputs": [
    {
     "data": {
      "text/plain": [
       "array([ 7.18568879,  7.9706797 ,  4.65547791, ...,  9.48570749,\n",
       "        9.18600452,  6.97299967])"
      ]
     },
     "execution_count": 26,
     "metadata": {},
     "output_type": "execute_result"
    }
   ],
   "source": [
    "np.dot(user_mat[0, :], movie_mat)"
   ]
  },
  {
   "cell_type": "code",
   "execution_count": 29,
   "metadata": {},
   "outputs": [
    {
     "data": {
      "text/plain": [
       "array([ 344, 2431,  184, 1343, 1715, 1382,  537,  512, 2643, 2338])"
      ]
     },
     "execution_count": 29,
     "metadata": {},
     "output_type": "execute_result"
    }
   ],
   "source": [
    "np.dot(user_mat[0, :], movie_mat).argsort()[-10:][::-1]"
   ]
  },
  {
   "cell_type": "code",
   "execution_count": 33,
   "metadata": {},
   "outputs": [],
   "source": [
    "def make_recommendations(_id, _id_type='movie', train_data=train_data_df, \n",
    "                         train_df=train_df, movies=movies, rec_num=5, user_mat=user_mat):\n",
    "    '''\n",
    "    INPUT:\n",
    "    _id - either a user or movie id (int)\n",
    "    _id_type - \"movie\" or \"user\" (str)\n",
    "    train_data - dataframe of data as user-movie matrix\n",
    "    train_df - dataframe of training data reviews\n",
    "    movies - movies df\n",
    "    rec_num - number of recommendations to return (int)\n",
    "    user_mat - the U matrix of matrix factorization\n",
    "    movie_mat - the V matrix of matrix factorization\n",
    "    \n",
    "    OUTPUT:\n",
    "    rec_ids - (array) a list or numpy array of recommended movies by id                  \n",
    "    rec_names - (array) a list or numpy array of recommended movies by name\n",
    "    '''\n",
    "    \n",
    "    if _id_type == \"user\":\n",
    "        self_idx = np.where(train_data.index == _id)[0][0]\n",
    "        \n",
    "        preds = np.dot(user_mat[self_idx, :], movie_mat)\n",
    "        top_n_idx = preds.argsort()[-rec_num:][::-1]\n",
    "        \n",
    "        rec_ids = train_data.columns[top_n_idx]\n",
    "        rec_names = get_movie_names(rec_ids)\n",
    "        \n",
    "    elif _id_type == \"movie\":\n",
    "        rec_ids = find_similar_movies(_id)\n",
    "        rec_names = get_movie_names(rec_ids)\n",
    "    \n",
    "    return rec_ids, rec_names"
   ]
  },
  {
   "cell_type": "code",
   "execution_count": null,
   "metadata": {},
   "outputs": [],
   "source": [
    "# Use these cells to see that you can truly predict for everyone in the test set\n",
    "# Do you see anything insightful?\n"
   ]
  },
  {
   "cell_type": "code",
   "execution_count": 34,
   "metadata": {},
   "outputs": [
    {
     "data": {
      "text/plain": [
       "(Int64Index([92965, 1853728, 68646, 450259, 1069238], dtype='int64', name='movie_id'),\n",
       " ['The Godfather (1972)',\n",
       "  'Empire of the Sun (1987)',\n",
       "  'Blood Diamond (2006)',\n",
       "  'Okuribito (2008)',\n",
       "  'Django Unchained (2012)'])"
      ]
     },
     "execution_count": 34,
     "metadata": {},
     "output_type": "execute_result"
    }
   ],
   "source": [
    "make_recommendations(8, \"user\")"
   ]
  },
  {
   "cell_type": "code",
   "execution_count": 38,
   "metadata": {},
   "outputs": [
    {
     "name": "stdout",
     "output_type": "stream",
     "text": [
      "\n",
      "\n",
      "Given user: 0 recommended movies are: Int64Index([92965, 1853728, 68646, 450259, 1069238], dtype='int64', name='movie_id') / ['The Godfather (1972)', 'Empire of the Sun (1987)', 'Blood Diamond (2006)', 'Okuribito (2008)', 'Django Unchained (2012)']\n",
      "\n",
      "\n",
      "Given movie: 0 recommended movies are: Int64Index([92965, 1853728, 68646, 450259, 1069238], dtype='int64', name='movie_id') / ['The Godfather (1972)', 'Empire of the Sun (1987)', 'Blood Diamond (2006)', 'Okuribito (2008)', 'Django Unchained (2012)']\n",
      "\n",
      "\n",
      "Given user: 1 recommended movies are: Int64Index([92965, 1853728, 68646, 450259, 1069238], dtype='int64', name='movie_id') / ['The Godfather (1972)', 'Empire of the Sun (1987)', 'Blood Diamond (2006)', 'Okuribito (2008)', 'Django Unchained (2012)']\n",
      "\n",
      "\n",
      "Given movie: 1 recommended movies are: Int64Index([92965, 1853728, 68646, 450259, 1069238], dtype='int64', name='movie_id') / ['The Godfather (1972)', 'Empire of the Sun (1987)', 'Blood Diamond (2006)', 'Okuribito (2008)', 'Django Unchained (2012)']\n",
      "\n",
      "\n",
      "Given user: 2 recommended movies are: Int64Index([92965, 1853728, 68646, 450259, 1069238], dtype='int64', name='movie_id') / ['The Godfather (1972)', 'Empire of the Sun (1987)', 'Blood Diamond (2006)', 'Okuribito (2008)', 'Django Unchained (2012)']\n",
      "\n",
      "\n",
      "Given movie: 2 recommended movies are: Int64Index([92965, 1853728, 68646, 450259, 1069238], dtype='int64', name='movie_id') / ['The Godfather (1972)', 'Empire of the Sun (1987)', 'Blood Diamond (2006)', 'Okuribito (2008)', 'Django Unchained (2012)']\n",
      "\n",
      "\n",
      "Given user: 3 recommended movies are: Int64Index([92965, 1853728, 68646, 450259, 1069238], dtype='int64', name='movie_id') / ['The Godfather (1972)', 'Empire of the Sun (1987)', 'Blood Diamond (2006)', 'Okuribito (2008)', 'Django Unchained (2012)']\n",
      "\n",
      "\n",
      "Given movie: 3 recommended movies are: Int64Index([92965, 1853728, 68646, 450259, 1069238], dtype='int64', name='movie_id') / ['The Godfather (1972)', 'Empire of the Sun (1987)', 'Blood Diamond (2006)', 'Okuribito (2008)', 'Django Unchained (2012)']\n",
      "\n",
      "\n",
      "Given user: 4 recommended movies are: Int64Index([92965, 1853728, 68646, 450259, 1069238], dtype='int64', name='movie_id') / ['The Godfather (1972)', 'Empire of the Sun (1987)', 'Blood Diamond (2006)', 'Okuribito (2008)', 'Django Unchained (2012)']\n",
      "\n",
      "\n",
      "Given movie: 4 recommended movies are: Int64Index([92965, 1853728, 68646, 450259, 1069238], dtype='int64', name='movie_id') / ['The Godfather (1972)', 'Empire of the Sun (1987)', 'Blood Diamond (2006)', 'Okuribito (2008)', 'Django Unchained (2012)']\n",
      "\n",
      "\n",
      "Given user: 5 recommended movies are: Int64Index([92965, 1853728, 68646, 450259, 1069238], dtype='int64', name='movie_id') / ['The Godfather (1972)', 'Empire of the Sun (1987)', 'Blood Diamond (2006)', 'Okuribito (2008)', 'Django Unchained (2012)']\n",
      "\n",
      "\n",
      "Given movie: 5 recommended movies are: Int64Index([92965, 1853728, 68646, 450259, 1069238], dtype='int64', name='movie_id') / ['The Godfather (1972)', 'Empire of the Sun (1987)', 'Blood Diamond (2006)', 'Okuribito (2008)', 'Django Unchained (2012)']\n",
      "\n",
      "\n",
      "Given user: 6 recommended movies are: Int64Index([92965, 1853728, 68646, 450259, 1069238], dtype='int64', name='movie_id') / ['The Godfather (1972)', 'Empire of the Sun (1987)', 'Blood Diamond (2006)', 'Okuribito (2008)', 'Django Unchained (2012)']\n",
      "\n",
      "\n",
      "Given movie: 6 recommended movies are: Int64Index([92965, 1853728, 68646, 450259, 1069238], dtype='int64', name='movie_id') / ['The Godfather (1972)', 'Empire of the Sun (1987)', 'Blood Diamond (2006)', 'Okuribito (2008)', 'Django Unchained (2012)']\n",
      "\n",
      "\n",
      "Given user: 7 recommended movies are: Int64Index([92965, 1853728, 68646, 450259, 1069238], dtype='int64', name='movie_id') / ['The Godfather (1972)', 'Empire of the Sun (1987)', 'Blood Diamond (2006)', 'Okuribito (2008)', 'Django Unchained (2012)']\n",
      "\n",
      "\n",
      "Given movie: 7 recommended movies are: Int64Index([92965, 1853728, 68646, 450259, 1069238], dtype='int64', name='movie_id') / ['The Godfather (1972)', 'Empire of the Sun (1987)', 'Blood Diamond (2006)', 'Okuribito (2008)', 'Django Unchained (2012)']\n",
      "\n",
      "\n",
      "Given user: 8 recommended movies are: Int64Index([92965, 1853728, 68646, 450259, 1069238], dtype='int64', name='movie_id') / ['The Godfather (1972)', 'Empire of the Sun (1987)', 'Blood Diamond (2006)', 'Okuribito (2008)', 'Django Unchained (2012)']\n",
      "\n",
      "\n",
      "Given movie: 8 recommended movies are: Int64Index([92965, 1853728, 68646, 450259, 1069238], dtype='int64', name='movie_id') / ['The Godfather (1972)', 'Empire of the Sun (1987)', 'Blood Diamond (2006)', 'Okuribito (2008)', 'Django Unchained (2012)']\n",
      "\n",
      "\n",
      "Given user: 9 recommended movies are: Int64Index([92965, 1853728, 68646, 450259, 1069238], dtype='int64', name='movie_id') / ['The Godfather (1972)', 'Empire of the Sun (1987)', 'Blood Diamond (2006)', 'Okuribito (2008)', 'Django Unchained (2012)']\n",
      "\n",
      "\n",
      "Given movie: 9 recommended movies are: Int64Index([92965, 1853728, 68646, 450259, 1069238], dtype='int64', name='movie_id') / ['The Godfather (1972)', 'Empire of the Sun (1987)', 'Blood Diamond (2006)', 'Okuribito (2008)', 'Django Unchained (2012)']\n",
      "\n",
      "\n",
      "Given user: 10 recommended movies are: Int64Index([92965, 1853728, 68646, 450259, 1069238], dtype='int64', name='movie_id') / ['The Godfather (1972)', 'Empire of the Sun (1987)', 'Blood Diamond (2006)', 'Okuribito (2008)', 'Django Unchained (2012)']\n",
      "\n",
      "\n",
      "Given movie: 10 recommended movies are: Int64Index([92965, 1853728, 68646, 450259, 1069238], dtype='int64', name='movie_id') / ['The Godfather (1972)', 'Empire of the Sun (1987)', 'Blood Diamond (2006)', 'Okuribito (2008)', 'Django Unchained (2012)']\n",
      "\n",
      "\n",
      "Given user: 11 recommended movies are: Int64Index([92965, 1853728, 68646, 450259, 1069238], dtype='int64', name='movie_id') / ['The Godfather (1972)', 'Empire of the Sun (1987)', 'Blood Diamond (2006)', 'Okuribito (2008)', 'Django Unchained (2012)']\n",
      "\n",
      "\n",
      "Given movie: 11 recommended movies are: Int64Index([92965, 1853728, 68646, 450259, 1069238], dtype='int64', name='movie_id') / ['The Godfather (1972)', 'Empire of the Sun (1987)', 'Blood Diamond (2006)', 'Okuribito (2008)', 'Django Unchained (2012)']\n",
      "\n",
      "\n",
      "Given user: 12 recommended movies are: Int64Index([92965, 1853728, 68646, 450259, 1069238], dtype='int64', name='movie_id') / ['The Godfather (1972)', 'Empire of the Sun (1987)', 'Blood Diamond (2006)', 'Okuribito (2008)', 'Django Unchained (2012)']\n",
      "\n",
      "\n",
      "Given movie: 12 recommended movies are: Int64Index([92965, 1853728, 68646, 450259, 1069238], dtype='int64', name='movie_id') / ['The Godfather (1972)', 'Empire of the Sun (1987)', 'Blood Diamond (2006)', 'Okuribito (2008)', 'Django Unchained (2012)']\n",
      "\n",
      "\n",
      "Given user: 13 recommended movies are: Int64Index([92965, 1853728, 68646, 450259, 1069238], dtype='int64', name='movie_id') / ['The Godfather (1972)', 'Empire of the Sun (1987)', 'Blood Diamond (2006)', 'Okuribito (2008)', 'Django Unchained (2012)']\n",
      "\n",
      "\n",
      "Given movie: 13 recommended movies are: Int64Index([92965, 1853728, 68646, 450259, 1069238], dtype='int64', name='movie_id') / ['The Godfather (1972)', 'Empire of the Sun (1987)', 'Blood Diamond (2006)', 'Okuribito (2008)', 'Django Unchained (2012)']\n",
      "\n",
      "\n",
      "Given user: 14 recommended movies are: Int64Index([92965, 1853728, 68646, 450259, 1069238], dtype='int64', name='movie_id') / ['The Godfather (1972)', 'Empire of the Sun (1987)', 'Blood Diamond (2006)', 'Okuribito (2008)', 'Django Unchained (2012)']\n",
      "\n",
      "\n",
      "Given movie: 14 recommended movies are: Int64Index([92965, 1853728, 68646, 450259, 1069238], dtype='int64', name='movie_id') / ['The Godfather (1972)', 'Empire of the Sun (1987)', 'Blood Diamond (2006)', 'Okuribito (2008)', 'Django Unchained (2012)']\n",
      "\n",
      "\n",
      "Given user: 15 recommended movies are: Int64Index([92965, 1853728, 68646, 450259, 1069238], dtype='int64', name='movie_id') / ['The Godfather (1972)', 'Empire of the Sun (1987)', 'Blood Diamond (2006)', 'Okuribito (2008)', 'Django Unchained (2012)']\n",
      "\n",
      "\n",
      "Given movie: 15 recommended movies are: Int64Index([92965, 1853728, 68646, 450259, 1069238], dtype='int64', name='movie_id') / ['The Godfather (1972)', 'Empire of the Sun (1987)', 'Blood Diamond (2006)', 'Okuribito (2008)', 'Django Unchained (2012)']\n",
      "\n",
      "\n",
      "Given user: 16 recommended movies are: Int64Index([92965, 1853728, 68646, 450259, 1069238], dtype='int64', name='movie_id') / ['The Godfather (1972)', 'Empire of the Sun (1987)', 'Blood Diamond (2006)', 'Okuribito (2008)', 'Django Unchained (2012)']\n",
      "\n",
      "\n",
      "Given movie: 16 recommended movies are: Int64Index([92965, 1853728, 68646, 450259, 1069238], dtype='int64', name='movie_id') / ['The Godfather (1972)', 'Empire of the Sun (1987)', 'Blood Diamond (2006)', 'Okuribito (2008)', 'Django Unchained (2012)']\n",
      "\n",
      "\n",
      "Given user: 17 recommended movies are: Int64Index([92965, 1853728, 68646, 450259, 1069238], dtype='int64', name='movie_id') / ['The Godfather (1972)', 'Empire of the Sun (1987)', 'Blood Diamond (2006)', 'Okuribito (2008)', 'Django Unchained (2012)']\n",
      "\n",
      "\n",
      "Given movie: 17 recommended movies are: Int64Index([92965, 1853728, 68646, 450259, 1069238], dtype='int64', name='movie_id') / ['The Godfather (1972)', 'Empire of the Sun (1987)', 'Blood Diamond (2006)', 'Okuribito (2008)', 'Django Unchained (2012)']\n",
      "\n",
      "\n",
      "Given user: 18 recommended movies are: Int64Index([92965, 1853728, 68646, 450259, 1069238], dtype='int64', name='movie_id') / ['The Godfather (1972)', 'Empire of the Sun (1987)', 'Blood Diamond (2006)', 'Okuribito (2008)', 'Django Unchained (2012)']\n",
      "\n",
      "\n",
      "Given movie: 18 recommended movies are: Int64Index([92965, 1853728, 68646, 450259, 1069238], dtype='int64', name='movie_id') / ['The Godfather (1972)', 'Empire of the Sun (1987)', 'Blood Diamond (2006)', 'Okuribito (2008)', 'Django Unchained (2012)']\n",
      "\n",
      "\n",
      "Given user: 19 recommended movies are: Int64Index([92965, 1853728, 68646, 450259, 1069238], dtype='int64', name='movie_id') / ['The Godfather (1972)', 'Empire of the Sun (1987)', 'Blood Diamond (2006)', 'Okuribito (2008)', 'Django Unchained (2012)']\n",
      "\n",
      "\n",
      "Given movie: 19 recommended movies are: Int64Index([92965, 1853728, 68646, 450259, 1069238], dtype='int64', name='movie_id') / ['The Godfather (1972)', 'Empire of the Sun (1987)', 'Blood Diamond (2006)', 'Okuribito (2008)', 'Django Unchained (2012)']\n",
      "\n",
      "\n",
      "Given user: 20 recommended movies are: Int64Index([92965, 1853728, 68646, 450259, 1069238], dtype='int64', name='movie_id') / ['The Godfather (1972)', 'Empire of the Sun (1987)', 'Blood Diamond (2006)', 'Okuribito (2008)', 'Django Unchained (2012)']\n",
      "\n",
      "\n",
      "Given movie: 20 recommended movies are: Int64Index([92965, 1853728, 68646, 450259, 1069238], dtype='int64', name='movie_id') / ['The Godfather (1972)', 'Empire of the Sun (1987)', 'Blood Diamond (2006)', 'Okuribito (2008)', 'Django Unchained (2012)']\n",
      "\n",
      "\n",
      "Given user: 21 recommended movies are: Int64Index([92965, 1853728, 68646, 450259, 1069238], dtype='int64', name='movie_id') / ['The Godfather (1972)', 'Empire of the Sun (1987)', 'Blood Diamond (2006)', 'Okuribito (2008)', 'Django Unchained (2012)']\n",
      "\n",
      "\n",
      "Given movie: 21 recommended movies are: Int64Index([92965, 1853728, 68646, 450259, 1069238], dtype='int64', name='movie_id') / ['The Godfather (1972)', 'Empire of the Sun (1987)', 'Blood Diamond (2006)', 'Okuribito (2008)', 'Django Unchained (2012)']\n",
      "\n",
      "\n",
      "Given user: 22 recommended movies are: Int64Index([92965, 1853728, 68646, 450259, 1069238], dtype='int64', name='movie_id') / ['The Godfather (1972)', 'Empire of the Sun (1987)', 'Blood Diamond (2006)', 'Okuribito (2008)', 'Django Unchained (2012)']\n",
      "\n",
      "\n",
      "Given movie: 22 recommended movies are: Int64Index([92965, 1853728, 68646, 450259, 1069238], dtype='int64', name='movie_id') / ['The Godfather (1972)', 'Empire of the Sun (1987)', 'Blood Diamond (2006)', 'Okuribito (2008)', 'Django Unchained (2012)']\n",
      "\n",
      "\n",
      "Given user: 23 recommended movies are: Int64Index([92965, 1853728, 68646, 450259, 1069238], dtype='int64', name='movie_id') / ['The Godfather (1972)', 'Empire of the Sun (1987)', 'Blood Diamond (2006)', 'Okuribito (2008)', 'Django Unchained (2012)']\n",
      "\n",
      "\n",
      "Given movie: 23 recommended movies are: Int64Index([92965, 1853728, 68646, 450259, 1069238], dtype='int64', name='movie_id') / ['The Godfather (1972)', 'Empire of the Sun (1987)', 'Blood Diamond (2006)', 'Okuribito (2008)', 'Django Unchained (2012)']\n",
      "\n",
      "\n",
      "Given user: 24 recommended movies are: Int64Index([92965, 1853728, 68646, 450259, 1069238], dtype='int64', name='movie_id') / ['The Godfather (1972)', 'Empire of the Sun (1987)', 'Blood Diamond (2006)', 'Okuribito (2008)', 'Django Unchained (2012)']\n",
      "\n",
      "\n",
      "Given movie: 24 recommended movies are: Int64Index([92965, 1853728, 68646, 450259, 1069238], dtype='int64', name='movie_id') / ['The Godfather (1972)', 'Empire of the Sun (1987)', 'Blood Diamond (2006)', 'Okuribito (2008)', 'Django Unchained (2012)']\n",
      "\n",
      "\n",
      "Given user: 25 recommended movies are: Int64Index([92965, 1853728, 68646, 450259, 1069238], dtype='int64', name='movie_id') / ['The Godfather (1972)', 'Empire of the Sun (1987)', 'Blood Diamond (2006)', 'Okuribito (2008)', 'Django Unchained (2012)']\n",
      "\n",
      "\n",
      "Given movie: 25 recommended movies are: Int64Index([92965, 1853728, 68646, 450259, 1069238], dtype='int64', name='movie_id') / ['The Godfather (1972)', 'Empire of the Sun (1987)', 'Blood Diamond (2006)', 'Okuribito (2008)', 'Django Unchained (2012)']\n",
      "\n",
      "\n",
      "Given user: 26 recommended movies are: Int64Index([92965, 1853728, 68646, 450259, 1069238], dtype='int64', name='movie_id') / ['The Godfather (1972)', 'Empire of the Sun (1987)', 'Blood Diamond (2006)', 'Okuribito (2008)', 'Django Unchained (2012)']\n",
      "\n",
      "\n",
      "Given movie: 26 recommended movies are: Int64Index([92965, 1853728, 68646, 450259, 1069238], dtype='int64', name='movie_id') / ['The Godfather (1972)', 'Empire of the Sun (1987)', 'Blood Diamond (2006)', 'Okuribito (2008)', 'Django Unchained (2012)']\n",
      "\n",
      "\n",
      "Given user: 27 recommended movies are: Int64Index([92965, 1853728, 68646, 450259, 1069238], dtype='int64', name='movie_id') / ['The Godfather (1972)', 'Empire of the Sun (1987)', 'Blood Diamond (2006)', 'Okuribito (2008)', 'Django Unchained (2012)']\n",
      "\n",
      "\n",
      "Given movie: 27 recommended movies are: Int64Index([92965, 1853728, 68646, 450259, 1069238], dtype='int64', name='movie_id') / ['The Godfather (1972)', 'Empire of the Sun (1987)', 'Blood Diamond (2006)', 'Okuribito (2008)', 'Django Unchained (2012)']\n",
      "\n",
      "\n",
      "Given user: 28 recommended movies are: Int64Index([92965, 1853728, 68646, 450259, 1069238], dtype='int64', name='movie_id') / ['The Godfather (1972)', 'Empire of the Sun (1987)', 'Blood Diamond (2006)', 'Okuribito (2008)', 'Django Unchained (2012)']\n",
      "\n",
      "\n",
      "Given movie: 28 recommended movies are: Int64Index([92965, 1853728, 68646, 450259, 1069238], dtype='int64', name='movie_id') / ['The Godfather (1972)', 'Empire of the Sun (1987)', 'Blood Diamond (2006)', 'Okuribito (2008)', 'Django Unchained (2012)']\n",
      "\n",
      "\n",
      "Given user: 29 recommended movies are: Int64Index([92965, 1853728, 68646, 450259, 1069238], dtype='int64', name='movie_id') / ['The Godfather (1972)', 'Empire of the Sun (1987)', 'Blood Diamond (2006)', 'Okuribito (2008)', 'Django Unchained (2012)']\n",
      "\n",
      "\n",
      "Given movie: 29 recommended movies are: Int64Index([92965, 1853728, 68646, 450259, 1069238], dtype='int64', name='movie_id') / ['The Godfather (1972)', 'Empire of the Sun (1987)', 'Blood Diamond (2006)', 'Okuribito (2008)', 'Django Unchained (2012)']\n",
      "\n",
      "\n",
      "Given user: 30 recommended movies are: Int64Index([92965, 1853728, 68646, 450259, 1069238], dtype='int64', name='movie_id') / ['The Godfather (1972)', 'Empire of the Sun (1987)', 'Blood Diamond (2006)', 'Okuribito (2008)', 'Django Unchained (2012)']\n",
      "\n",
      "\n",
      "Given movie: 30 recommended movies are: Int64Index([92965, 1853728, 68646, 450259, 1069238], dtype='int64', name='movie_id') / ['The Godfather (1972)', 'Empire of the Sun (1987)', 'Blood Diamond (2006)', 'Okuribito (2008)', 'Django Unchained (2012)']\n",
      "\n",
      "\n",
      "Given user: 31 recommended movies are: Int64Index([92965, 1853728, 68646, 450259, 1069238], dtype='int64', name='movie_id') / ['The Godfather (1972)', 'Empire of the Sun (1987)', 'Blood Diamond (2006)', 'Okuribito (2008)', 'Django Unchained (2012)']\n",
      "\n",
      "\n",
      "Given movie: 31 recommended movies are: Int64Index([92965, 1853728, 68646, 450259, 1069238], dtype='int64', name='movie_id') / ['The Godfather (1972)', 'Empire of the Sun (1987)', 'Blood Diamond (2006)', 'Okuribito (2008)', 'Django Unchained (2012)']\n",
      "\n",
      "\n",
      "Given user: 32 recommended movies are: Int64Index([92965, 1853728, 68646, 450259, 1069238], dtype='int64', name='movie_id') / ['The Godfather (1972)', 'Empire of the Sun (1987)', 'Blood Diamond (2006)', 'Okuribito (2008)', 'Django Unchained (2012)']\n",
      "\n",
      "\n",
      "Given movie: 32 recommended movies are: Int64Index([92965, 1853728, 68646, 450259, 1069238], dtype='int64', name='movie_id') / ['The Godfather (1972)', 'Empire of the Sun (1987)', 'Blood Diamond (2006)', 'Okuribito (2008)', 'Django Unchained (2012)']\n",
      "\n",
      "\n",
      "Given user: 33 recommended movies are: Int64Index([92965, 1853728, 68646, 450259, 1069238], dtype='int64', name='movie_id') / ['The Godfather (1972)', 'Empire of the Sun (1987)', 'Blood Diamond (2006)', 'Okuribito (2008)', 'Django Unchained (2012)']\n",
      "\n",
      "\n",
      "Given movie: 33 recommended movies are: Int64Index([92965, 1853728, 68646, 450259, 1069238], dtype='int64', name='movie_id') / ['The Godfather (1972)', 'Empire of the Sun (1987)', 'Blood Diamond (2006)', 'Okuribito (2008)', 'Django Unchained (2012)']\n",
      "\n",
      "\n",
      "Given user: 34 recommended movies are: Int64Index([92965, 1853728, 68646, 450259, 1069238], dtype='int64', name='movie_id') / ['The Godfather (1972)', 'Empire of the Sun (1987)', 'Blood Diamond (2006)', 'Okuribito (2008)', 'Django Unchained (2012)']\n",
      "\n",
      "\n",
      "Given movie: 34 recommended movies are: Int64Index([92965, 1853728, 68646, 450259, 1069238], dtype='int64', name='movie_id') / ['The Godfather (1972)', 'Empire of the Sun (1987)', 'Blood Diamond (2006)', 'Okuribito (2008)', 'Django Unchained (2012)']\n",
      "\n",
      "\n",
      "Given user: 35 recommended movies are: Int64Index([92965, 1853728, 68646, 450259, 1069238], dtype='int64', name='movie_id') / ['The Godfather (1972)', 'Empire of the Sun (1987)', 'Blood Diamond (2006)', 'Okuribito (2008)', 'Django Unchained (2012)']\n",
      "\n",
      "\n",
      "Given movie: 35 recommended movies are: Int64Index([92965, 1853728, 68646, 450259, 1069238], dtype='int64', name='movie_id') / ['The Godfather (1972)', 'Empire of the Sun (1987)', 'Blood Diamond (2006)', 'Okuribito (2008)', 'Django Unchained (2012)']\n",
      "\n",
      "\n",
      "Given user: 36 recommended movies are: Int64Index([92965, 1853728, 68646, 450259, 1069238], dtype='int64', name='movie_id') / ['The Godfather (1972)', 'Empire of the Sun (1987)', 'Blood Diamond (2006)', 'Okuribito (2008)', 'Django Unchained (2012)']\n",
      "\n",
      "\n",
      "Given movie: 36 recommended movies are: Int64Index([92965, 1853728, 68646, 450259, 1069238], dtype='int64', name='movie_id') / ['The Godfather (1972)', 'Empire of the Sun (1987)', 'Blood Diamond (2006)', 'Okuribito (2008)', 'Django Unchained (2012)']\n",
      "\n",
      "\n",
      "Given user: 37 recommended movies are: Int64Index([92965, 1853728, 68646, 450259, 1069238], dtype='int64', name='movie_id') / ['The Godfather (1972)', 'Empire of the Sun (1987)', 'Blood Diamond (2006)', 'Okuribito (2008)', 'Django Unchained (2012)']\n",
      "\n",
      "\n",
      "Given movie: 37 recommended movies are: Int64Index([92965, 1853728, 68646, 450259, 1069238], dtype='int64', name='movie_id') / ['The Godfather (1972)', 'Empire of the Sun (1987)', 'Blood Diamond (2006)', 'Okuribito (2008)', 'Django Unchained (2012)']\n",
      "\n",
      "\n",
      "Given user: 38 recommended movies are: Int64Index([92965, 1853728, 68646, 450259, 1069238], dtype='int64', name='movie_id') / ['The Godfather (1972)', 'Empire of the Sun (1987)', 'Blood Diamond (2006)', 'Okuribito (2008)', 'Django Unchained (2012)']\n",
      "\n",
      "\n",
      "Given movie: 38 recommended movies are: Int64Index([92965, 1853728, 68646, 450259, 1069238], dtype='int64', name='movie_id') / ['The Godfather (1972)', 'Empire of the Sun (1987)', 'Blood Diamond (2006)', 'Okuribito (2008)', 'Django Unchained (2012)']\n",
      "\n",
      "\n",
      "Given user: 39 recommended movies are: Int64Index([92965, 1853728, 68646, 450259, 1069238], dtype='int64', name='movie_id') / ['The Godfather (1972)', 'Empire of the Sun (1987)', 'Blood Diamond (2006)', 'Okuribito (2008)', 'Django Unchained (2012)']\n",
      "\n",
      "\n",
      "Given movie: 39 recommended movies are: Int64Index([92965, 1853728, 68646, 450259, 1069238], dtype='int64', name='movie_id') / ['The Godfather (1972)', 'Empire of the Sun (1987)', 'Blood Diamond (2006)', 'Okuribito (2008)', 'Django Unchained (2012)']\n",
      "\n",
      "\n",
      "Given user: 40 recommended movies are: Int64Index([92965, 1853728, 68646, 450259, 1069238], dtype='int64', name='movie_id') / ['The Godfather (1972)', 'Empire of the Sun (1987)', 'Blood Diamond (2006)', 'Okuribito (2008)', 'Django Unchained (2012)']\n",
      "\n",
      "\n",
      "Given movie: 40 recommended movies are: Int64Index([92965, 1853728, 68646, 450259, 1069238], dtype='int64', name='movie_id') / ['The Godfather (1972)', 'Empire of the Sun (1987)', 'Blood Diamond (2006)', 'Okuribito (2008)', 'Django Unchained (2012)']\n",
      "\n",
      "\n",
      "Given user: 41 recommended movies are: Int64Index([92965, 1853728, 68646, 450259, 1069238], dtype='int64', name='movie_id') / ['The Godfather (1972)', 'Empire of the Sun (1987)', 'Blood Diamond (2006)', 'Okuribito (2008)', 'Django Unchained (2012)']\n",
      "\n",
      "\n",
      "Given movie: 41 recommended movies are: Int64Index([92965, 1853728, 68646, 450259, 1069238], dtype='int64', name='movie_id') / ['The Godfather (1972)', 'Empire of the Sun (1987)', 'Blood Diamond (2006)', 'Okuribito (2008)', 'Django Unchained (2012)']\n",
      "\n",
      "\n",
      "Given user: 42 recommended movies are: Int64Index([92965, 1853728, 68646, 450259, 1069238], dtype='int64', name='movie_id') / ['The Godfather (1972)', 'Empire of the Sun (1987)', 'Blood Diamond (2006)', 'Okuribito (2008)', 'Django Unchained (2012)']\n",
      "\n",
      "\n",
      "Given movie: 42 recommended movies are: Int64Index([92965, 1853728, 68646, 450259, 1069238], dtype='int64', name='movie_id') / ['The Godfather (1972)', 'Empire of the Sun (1987)', 'Blood Diamond (2006)', 'Okuribito (2008)', 'Django Unchained (2012)']\n",
      "\n",
      "\n",
      "Given user: 43 recommended movies are: Int64Index([92965, 1853728, 68646, 450259, 1069238], dtype='int64', name='movie_id') / ['The Godfather (1972)', 'Empire of the Sun (1987)', 'Blood Diamond (2006)', 'Okuribito (2008)', 'Django Unchained (2012)']\n",
      "\n",
      "\n",
      "Given movie: 43 recommended movies are: Int64Index([92965, 1853728, 68646, 450259, 1069238], dtype='int64', name='movie_id') / ['The Godfather (1972)', 'Empire of the Sun (1987)', 'Blood Diamond (2006)', 'Okuribito (2008)', 'Django Unchained (2012)']\n",
      "\n",
      "\n",
      "Given user: 44 recommended movies are: Int64Index([92965, 1853728, 68646, 450259, 1069238], dtype='int64', name='movie_id') / ['The Godfather (1972)', 'Empire of the Sun (1987)', 'Blood Diamond (2006)', 'Okuribito (2008)', 'Django Unchained (2012)']\n",
      "\n",
      "\n",
      "Given movie: 44 recommended movies are: Int64Index([92965, 1853728, 68646, 450259, 1069238], dtype='int64', name='movie_id') / ['The Godfather (1972)', 'Empire of the Sun (1987)', 'Blood Diamond (2006)', 'Okuribito (2008)', 'Django Unchained (2012)']\n",
      "\n",
      "\n",
      "Given user: 45 recommended movies are: Int64Index([92965, 1853728, 68646, 450259, 1069238], dtype='int64', name='movie_id') / ['The Godfather (1972)', 'Empire of the Sun (1987)', 'Blood Diamond (2006)', 'Okuribito (2008)', 'Django Unchained (2012)']\n",
      "\n",
      "\n",
      "Given movie: 45 recommended movies are: Int64Index([92965, 1853728, 68646, 450259, 1069238], dtype='int64', name='movie_id') / ['The Godfather (1972)', 'Empire of the Sun (1987)', 'Blood Diamond (2006)', 'Okuribito (2008)', 'Django Unchained (2012)']\n",
      "\n",
      "\n",
      "Given user: 46 recommended movies are: Int64Index([92965, 1853728, 68646, 450259, 1069238], dtype='int64', name='movie_id') / ['The Godfather (1972)', 'Empire of the Sun (1987)', 'Blood Diamond (2006)', 'Okuribito (2008)', 'Django Unchained (2012)']\n",
      "\n",
      "\n",
      "Given movie: 46 recommended movies are: Int64Index([92965, 1853728, 68646, 450259, 1069238], dtype='int64', name='movie_id') / ['The Godfather (1972)', 'Empire of the Sun (1987)', 'Blood Diamond (2006)', 'Okuribito (2008)', 'Django Unchained (2012)']\n",
      "\n",
      "\n",
      "Given user: 47 recommended movies are: Int64Index([92965, 1853728, 68646, 450259, 1069238], dtype='int64', name='movie_id') / ['The Godfather (1972)', 'Empire of the Sun (1987)', 'Blood Diamond (2006)', 'Okuribito (2008)', 'Django Unchained (2012)']\n",
      "\n",
      "\n",
      "Given movie: 47 recommended movies are: Int64Index([92965, 1853728, 68646, 450259, 1069238], dtype='int64', name='movie_id') / ['The Godfather (1972)', 'Empire of the Sun (1987)', 'Blood Diamond (2006)', 'Okuribito (2008)', 'Django Unchained (2012)']\n",
      "\n",
      "\n",
      "Given user: 48 recommended movies are: Int64Index([92965, 1853728, 68646, 450259, 1069238], dtype='int64', name='movie_id') / ['The Godfather (1972)', 'Empire of the Sun (1987)', 'Blood Diamond (2006)', 'Okuribito (2008)', 'Django Unchained (2012)']\n",
      "\n",
      "\n",
      "Given movie: 48 recommended movies are: Int64Index([92965, 1853728, 68646, 450259, 1069238], dtype='int64', name='movie_id') / ['The Godfather (1972)', 'Empire of the Sun (1987)', 'Blood Diamond (2006)', 'Okuribito (2008)', 'Django Unchained (2012)']\n",
      "\n",
      "\n",
      "Given user: 49 recommended movies are: Int64Index([92965, 1853728, 68646, 450259, 1069238], dtype='int64', name='movie_id') / ['The Godfather (1972)', 'Empire of the Sun (1987)', 'Blood Diamond (2006)', 'Okuribito (2008)', 'Django Unchained (2012)']\n",
      "\n",
      "\n",
      "Given movie: 49 recommended movies are: Int64Index([92965, 1853728, 68646, 450259, 1069238], dtype='int64', name='movie_id') / ['The Godfather (1972)', 'Empire of the Sun (1987)', 'Blood Diamond (2006)', 'Okuribito (2008)', 'Django Unchained (2012)']\n"
     ]
    }
   ],
   "source": [
    "n = 50\n",
    "for i in range(n):\n",
    "    for j in [\"user\", \"movie\"]:\n",
    "        ids, names = make_recommendations(8, \"user\")\n",
    "        print(\"\\n\\nGiven {0}: {1} recommended movies are: {2} / {3}\".format(j, i, ids, names))\n",
    "        "
   ]
  },
  {
   "cell_type": "code",
   "execution_count": null,
   "metadata": {
    "collapsed": true
   },
   "outputs": [],
   "source": []
  },
  {
   "cell_type": "code",
   "execution_count": null,
   "metadata": {},
   "outputs": [],
   "source": []
  },
  {
   "cell_type": "markdown",
   "metadata": {},
   "source": [
    "**Use this cell to discuss your findings.**"
   ]
  },
  {
   "cell_type": "code",
   "execution_count": null,
   "metadata": {
    "collapsed": true
   },
   "outputs": [],
   "source": []
  }
 ],
 "metadata": {
  "kernelspec": {
   "display_name": "Python 3",
   "language": "python",
   "name": "python3"
  },
  "language_info": {
   "codemirror_mode": {
    "name": "ipython",
    "version": 3
   },
   "file_extension": ".py",
   "mimetype": "text/x-python",
   "name": "python",
   "nbconvert_exporter": "python",
   "pygments_lexer": "ipython3",
   "version": "3.6.3"
  }
 },
 "nbformat": 4,
 "nbformat_minor": 2
}
