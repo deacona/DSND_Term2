{
 "cells": [
  {
   "cell_type": "markdown",
   "metadata": {},
   "source": [
    "### Recommendations with MovieTweetings: Most Popular Recommendation\n",
    "\n",
    "Now that you have created the necessary columns we will be using throughout the rest of the lesson on creating recommendations, let's get started with the first of our recommendations.\n",
    "\n",
    "To get started, read in the libraries and the two datasets you will be using throughout the lesson using the code below.\n"
   ]
  },
  {
   "cell_type": "code",
   "execution_count": 1,
   "metadata": {},
   "outputs": [],
   "source": [
    "import numpy as np\n",
    "import pandas as pd\n",
    "import matplotlib.pyplot as plt\n",
    "import tests as t\n",
    "\n",
    "%matplotlib inline\n",
    "\n",
    "# Read in the datasets\n",
    "movies = pd.read_csv('movies_clean.csv')\n",
    "reviews = pd.read_csv('reviews_clean.csv')\n",
    "del movies['Unnamed: 0']\n",
    "del reviews['Unnamed: 0']"
   ]
  },
  {
   "cell_type": "markdown",
   "metadata": {},
   "source": [
    "#### 1. How To Find The Most Popular Movies\n",
    "\n",
    "For this notebook, we have a single task.  The task is that no matter the user, we need to provide a list of the recommendations based on simply the most popular items.\n",
    "\n",
    "For this task, we will consider what is \"most popular\" based on the following criteria:\n",
    "\n",
    "* A movie with the highest average rating is considered best\n",
    "* With ties, movies that have more ratings are better\n",
    "* A movie must have a minimum of 5 ratings to be considered among the best movies\n",
    "* If movies are tied in their average rating and number of ratings, the ranking is determined by the movie that is the most recent rating\n",
    "\n",
    "With these criteria, the goal for this notebook is to take a **user_id** and provide back the **n_top** recommendations.  Use the function below as the scaffolding that will be used for all the future recommendations as well."
   ]
  },
  {
   "cell_type": "code",
   "execution_count": 2,
   "metadata": {},
   "outputs": [
    {
     "name": "stdout",
     "output_type": "stream",
     "text": [
      "<class 'pandas.core.frame.DataFrame'>\n",
      "RangeIndex: 712337 entries, 0 to 712336\n",
      "Data columns (total 23 columns):\n",
      "user_id      712337 non-null int64\n",
      "movie_id     712337 non-null int64\n",
      "rating       712337 non-null int64\n",
      "timestamp    712337 non-null int64\n",
      "date         712337 non-null object\n",
      "month_1      712337 non-null int64\n",
      "month_2      712337 non-null int64\n",
      "month_3      712337 non-null int64\n",
      "month_4      712337 non-null int64\n",
      "month_5      712337 non-null int64\n",
      "month_6      712337 non-null int64\n",
      "month_7      712337 non-null int64\n",
      "month_8      712337 non-null int64\n",
      "month_9      712337 non-null int64\n",
      "month_10     712337 non-null int64\n",
      "month_11     712337 non-null int64\n",
      "month_12     712337 non-null int64\n",
      "year_2013    712337 non-null int64\n",
      "year_2014    712337 non-null int64\n",
      "year_2015    712337 non-null int64\n",
      "year_2016    712337 non-null int64\n",
      "year_2017    712337 non-null int64\n",
      "year_2018    712337 non-null int64\n",
      "dtypes: int64(22), object(1)\n",
      "memory usage: 125.0+ MB\n"
     ]
    }
   ],
   "source": [
    "reviews.info()"
   ]
  },
  {
   "cell_type": "code",
   "execution_count": 5,
   "metadata": {},
   "outputs": [
    {
     "data": {
      "text/plain": [
       "movie_id\n",
       "8       5.000000\n",
       "10     10.000000\n",
       "12     10.000000\n",
       "25      8.000000\n",
       "91      6.000000\n",
       "417     8.368421\n",
       "439     6.750000\n",
       "443     8.000000\n",
       "628     4.500000\n",
       "833     3.000000\n",
       "Name: rating, dtype: float64"
      ]
     },
     "execution_count": 5,
     "metadata": {},
     "output_type": "execute_result"
    }
   ],
   "source": [
    "reviews.groupby(\"movie_id\").rating.mean()[:10]"
   ]
  },
  {
   "cell_type": "code",
   "execution_count": 6,
   "metadata": {},
   "outputs": [
    {
     "data": {
      "text/plain": [
       "movie_id\n",
       "8       1\n",
       "10      1\n",
       "12      1\n",
       "25      1\n",
       "91      1\n",
       "417    19\n",
       "439     4\n",
       "443     1\n",
       "628     2\n",
       "833     1\n",
       "Name: rating, dtype: int64"
      ]
     },
     "execution_count": 6,
     "metadata": {},
     "output_type": "execute_result"
    }
   ],
   "source": [
    "reviews.groupby(\"movie_id\").rating.count()[:10]"
   ]
  },
  {
   "cell_type": "code",
   "execution_count": 7,
   "metadata": {},
   "outputs": [
    {
     "data": {
      "text/plain": [
       "movie_id\n",
       "8      1396981211\n",
       "10     1412878553\n",
       "12     1439248579\n",
       "25     1488189899\n",
       "91     1385233195\n",
       "417    1530047326\n",
       "439    1529809149\n",
       "443    1477256912\n",
       "628    1385729728\n",
       "833    1385738847\n",
       "Name: timestamp, dtype: int64"
      ]
     },
     "execution_count": 7,
     "metadata": {},
     "output_type": "execute_result"
    }
   ],
   "source": [
    "reviews.groupby(\"movie_id\").timestamp.max()[:10]"
   ]
  },
  {
   "cell_type": "code",
   "execution_count": 14,
   "metadata": {},
   "outputs": [],
   "source": [
    "tmp = pd.concat([movies[[\"movie_id\", \"movie\"]].set_index(\"movie_id\"),\n",
    "          reviews.groupby(\"movie_id\").rating.mean(),\n",
    "          reviews.groupby(\"movie_id\").rating.count(),\n",
    "          reviews.groupby(\"movie_id\").timestamp.max()\n",
    "          ], axis=1).head(10)"
   ]
  },
  {
   "cell_type": "code",
   "execution_count": 17,
   "metadata": {},
   "outputs": [
    {
     "data": {
      "text/html": [
       "<div>\n",
       "<style scoped>\n",
       "    .dataframe tbody tr th:only-of-type {\n",
       "        vertical-align: middle;\n",
       "    }\n",
       "\n",
       "    .dataframe tbody tr th {\n",
       "        vertical-align: top;\n",
       "    }\n",
       "\n",
       "    .dataframe thead th {\n",
       "        text-align: right;\n",
       "    }\n",
       "</style>\n",
       "<table border=\"1\" class=\"dataframe\">\n",
       "  <thead>\n",
       "    <tr style=\"text-align: right;\">\n",
       "      <th></th>\n",
       "      <th>movie</th>\n",
       "      <th>rating_mean</th>\n",
       "      <th>review_count</th>\n",
       "      <th>timestamp_max</th>\n",
       "    </tr>\n",
       "    <tr>\n",
       "      <th>movie_id</th>\n",
       "      <th></th>\n",
       "      <th></th>\n",
       "      <th></th>\n",
       "      <th></th>\n",
       "    </tr>\n",
       "  </thead>\n",
       "  <tbody>\n",
       "    <tr>\n",
       "      <th>12</th>\n",
       "      <td>The Arrival of a Train (1896)</td>\n",
       "      <td>10.000000</td>\n",
       "      <td>1</td>\n",
       "      <td>1439248579</td>\n",
       "    </tr>\n",
       "    <tr>\n",
       "      <th>10</th>\n",
       "      <td>La sortie des usines Lumière (1895)</td>\n",
       "      <td>10.000000</td>\n",
       "      <td>1</td>\n",
       "      <td>1412878553</td>\n",
       "    </tr>\n",
       "    <tr>\n",
       "      <th>417</th>\n",
       "      <td>Le voyage dans la lune (1902)</td>\n",
       "      <td>8.368421</td>\n",
       "      <td>19</td>\n",
       "      <td>1530047326</td>\n",
       "    </tr>\n",
       "    <tr>\n",
       "      <th>25</th>\n",
       "      <td>The Oxford and Cambridge University Boat Race ...</td>\n",
       "      <td>8.000000</td>\n",
       "      <td>1</td>\n",
       "      <td>1488189899</td>\n",
       "    </tr>\n",
       "    <tr>\n",
       "      <th>443</th>\n",
       "      <td>Hiawatha, the Messiah of the Ojibway (1903)</td>\n",
       "      <td>8.000000</td>\n",
       "      <td>1</td>\n",
       "      <td>1477256912</td>\n",
       "    </tr>\n",
       "    <tr>\n",
       "      <th>439</th>\n",
       "      <td>The Great Train Robbery (1903)</td>\n",
       "      <td>6.750000</td>\n",
       "      <td>4</td>\n",
       "      <td>1529809149</td>\n",
       "    </tr>\n",
       "    <tr>\n",
       "      <th>91</th>\n",
       "      <td>Le manoir du diable (1896)</td>\n",
       "      <td>6.000000</td>\n",
       "      <td>1</td>\n",
       "      <td>1385233195</td>\n",
       "    </tr>\n",
       "    <tr>\n",
       "      <th>8</th>\n",
       "      <td>Edison Kinetoscopic Record of a Sneeze (1894)</td>\n",
       "      <td>5.000000</td>\n",
       "      <td>1</td>\n",
       "      <td>1396981211</td>\n",
       "    </tr>\n",
       "    <tr>\n",
       "      <th>628</th>\n",
       "      <td>The Adventures of Dollie (1908)</td>\n",
       "      <td>4.500000</td>\n",
       "      <td>2</td>\n",
       "      <td>1385729728</td>\n",
       "    </tr>\n",
       "    <tr>\n",
       "      <th>833</th>\n",
       "      <td>The Country Doctor (1909)</td>\n",
       "      <td>3.000000</td>\n",
       "      <td>1</td>\n",
       "      <td>1385738847</td>\n",
       "    </tr>\n",
       "  </tbody>\n",
       "</table>\n",
       "</div>"
      ],
      "text/plain": [
       "                                                      movie  rating_mean  \\\n",
       "movie_id                                                                   \n",
       "12                            The Arrival of a Train (1896)    10.000000   \n",
       "10                      La sortie des usines Lumière (1895)    10.000000   \n",
       "417                           Le voyage dans la lune (1902)     8.368421   \n",
       "25        The Oxford and Cambridge University Boat Race ...     8.000000   \n",
       "443             Hiawatha, the Messiah of the Ojibway (1903)     8.000000   \n",
       "439                          The Great Train Robbery (1903)     6.750000   \n",
       "91                               Le manoir du diable (1896)     6.000000   \n",
       "8             Edison Kinetoscopic Record of a Sneeze (1894)     5.000000   \n",
       "628                         The Adventures of Dollie (1908)     4.500000   \n",
       "833                               The Country Doctor (1909)     3.000000   \n",
       "\n",
       "          review_count  timestamp_max  \n",
       "movie_id                               \n",
       "12                   1     1439248579  \n",
       "10                   1     1412878553  \n",
       "417                 19     1530047326  \n",
       "25                   1     1488189899  \n",
       "443                  1     1477256912  \n",
       "439                  4     1529809149  \n",
       "91                   1     1385233195  \n",
       "8                    1     1396981211  \n",
       "628                  2     1385729728  \n",
       "833                  1     1385738847  "
      ]
     },
     "execution_count": 17,
     "metadata": {},
     "output_type": "execute_result"
    }
   ],
   "source": [
    "tmp.columns = [\"movie\", \"rating_mean\", \"review_count\", \"timestamp_max\"]\n",
    "tmp.sort_values(by=[\"rating_mean\", \"review_count\", \"timestamp_max\"], ascending=False)"
   ]
  },
  {
   "cell_type": "code",
   "execution_count": 18,
   "metadata": {},
   "outputs": [
    {
     "data": {
      "text/html": [
       "<div>\n",
       "<style scoped>\n",
       "    .dataframe tbody tr th:only-of-type {\n",
       "        vertical-align: middle;\n",
       "    }\n",
       "\n",
       "    .dataframe tbody tr th {\n",
       "        vertical-align: top;\n",
       "    }\n",
       "\n",
       "    .dataframe thead th {\n",
       "        text-align: right;\n",
       "    }\n",
       "</style>\n",
       "<table border=\"1\" class=\"dataframe\">\n",
       "  <thead>\n",
       "    <tr style=\"text-align: right;\">\n",
       "      <th></th>\n",
       "      <th>movie</th>\n",
       "      <th>rating_mean</th>\n",
       "      <th>review_count</th>\n",
       "      <th>timestamp_max</th>\n",
       "    </tr>\n",
       "    <tr>\n",
       "      <th>movie_id</th>\n",
       "      <th></th>\n",
       "      <th></th>\n",
       "      <th></th>\n",
       "      <th></th>\n",
       "    </tr>\n",
       "  </thead>\n",
       "  <tbody>\n",
       "    <tr>\n",
       "      <th>417</th>\n",
       "      <td>Le voyage dans la lune (1902)</td>\n",
       "      <td>8.368421</td>\n",
       "      <td>19</td>\n",
       "      <td>1530047326</td>\n",
       "    </tr>\n",
       "  </tbody>\n",
       "</table>\n",
       "</div>"
      ],
      "text/plain": [
       "                                  movie  rating_mean  review_count  \\\n",
       "movie_id                                                             \n",
       "417       Le voyage dans la lune (1902)     8.368421            19   \n",
       "\n",
       "          timestamp_max  \n",
       "movie_id                 \n",
       "417          1530047326  "
      ]
     },
     "execution_count": 18,
     "metadata": {},
     "output_type": "execute_result"
    }
   ],
   "source": [
    "tmp[tmp.review_count >= 5]"
   ]
  },
  {
   "cell_type": "code",
   "execution_count": 23,
   "metadata": {},
   "outputs": [
    {
     "data": {
      "text/plain": [
       "['Edison Kinetoscopic Record of a Sneeze (1894)',\n",
       " 'La sortie des usines Lumière (1895)',\n",
       " 'The Arrival of a Train (1896)',\n",
       " 'The Oxford and Cambridge University Boat Race (1895)',\n",
       " 'Le manoir du diable (1896)',\n",
       " 'Le voyage dans la lune (1902)',\n",
       " 'The Great Train Robbery (1903)',\n",
       " 'Hiawatha, the Messiah of the Ojibway (1903)',\n",
       " 'The Adventures of Dollie (1908)',\n",
       " 'The Country Doctor (1909)']"
      ]
     },
     "execution_count": 23,
     "metadata": {},
     "output_type": "execute_result"
    }
   ],
   "source": [
    "tmp.movie.tolist()[:10]"
   ]
  },
  {
   "cell_type": "code",
   "execution_count": 29,
   "metadata": {},
   "outputs": [],
   "source": [
    "def popular_recommendations(user_id, n_top):\n",
    "    '''\n",
    "    INPUT:\n",
    "    user_id - the user_id of the individual you are making recommendations for\n",
    "    n_top - an integer of the number recommendations you want back\n",
    "    OUTPUT:\n",
    "    top_movies - a list of the n_top recommended movies by movie title in order best to worst\n",
    "    '''\n",
    "    # Do stuff\n",
    "    mov_rev = pd.concat([movies[[\"movie_id\", \"movie\"]].set_index(\"movie_id\"),\n",
    "          reviews.groupby(\"movie_id\").rating.mean(),\n",
    "          reviews.groupby(\"movie_id\").rating.count(),\n",
    "          reviews.groupby(\"movie_id\").timestamp.max()\n",
    "          ], axis=1)\n",
    "    mov_rev.columns = [\"movie\", \"rating_mean\", \"review_count\", \"timestamp_max\"]\n",
    "    mov_rev = mov_rev.sort_values(by=[\"rating_mean\", \"review_count\", \"timestamp_max\"], ascending=False)\n",
    "    \n",
    "    top_movies = mov_rev[mov_rev.review_count >= 5].movie.tolist()[:n_top]\n",
    "    \n",
    "    return top_movies # a list of the n_top movies as recommended"
   ]
  },
  {
   "cell_type": "markdown",
   "metadata": {},
   "source": [
    "Usint the three criteria above, you should be able to put together the above function.  If you feel confident in your solution, check the results of your function against our solution. On the next page, you can see a walkthrough and you can of course get the solution by looking at the solution notebook available in this workspace.  "
   ]
  },
  {
   "cell_type": "code",
   "execution_count": 30,
   "metadata": {},
   "outputs": [],
   "source": [
    "# Put your solutions for each of the cases here\n",
    "\n",
    "# Top 20 movies recommended for id 1\n",
    "\n",
    "recs_20_for_1 = popular_recommendations(1, 20)# Your solution list here\n",
    "\n",
    "# Top 5 movies recommended for id 53968\n",
    "recs_5_for_53968 = popular_recommendations(53968, 5)# Your solution list here\n",
    "\n",
    "# Top 100 movies recommended for id 70000\n",
    "recs_100_for_70000 = popular_recommendations(70000, 100)# Your solution list here\n",
    "\n",
    "# Top 35 movies recommended for id 43\n",
    "recs_35_for_43 = popular_recommendations(43, 35)# Your solution list here\n",
    "\n"
   ]
  },
  {
   "cell_type": "code",
   "execution_count": null,
   "metadata": {},
   "outputs": [],
   "source": [
    "### You Should Not Need To Modify Anything In This Cell\n",
    "ranked_movies = t.create_ranked_df(movies, reviews) # only run this once - it is not fast"
   ]
  },
  {
   "cell_type": "code",
   "execution_count": 28,
   "metadata": {},
   "outputs": [
    {
     "data": {
      "text/html": [
       "<div>\n",
       "<style scoped>\n",
       "    .dataframe tbody tr th:only-of-type {\n",
       "        vertical-align: middle;\n",
       "    }\n",
       "\n",
       "    .dataframe tbody tr th {\n",
       "        vertical-align: top;\n",
       "    }\n",
       "\n",
       "    .dataframe thead th {\n",
       "        text-align: right;\n",
       "    }\n",
       "</style>\n",
       "<table border=\"1\" class=\"dataframe\">\n",
       "  <thead>\n",
       "    <tr style=\"text-align: right;\">\n",
       "      <th></th>\n",
       "      <th>movie</th>\n",
       "      <th>genre</th>\n",
       "      <th>date</th>\n",
       "      <th>1800's</th>\n",
       "      <th>1900's</th>\n",
       "      <th>2000's</th>\n",
       "      <th>History</th>\n",
       "      <th>News</th>\n",
       "      <th>Horror</th>\n",
       "      <th>Musical</th>\n",
       "      <th>...</th>\n",
       "      <th>Action</th>\n",
       "      <th>Documentary</th>\n",
       "      <th>Animation</th>\n",
       "      <th>Comedy</th>\n",
       "      <th>Short</th>\n",
       "      <th>Western</th>\n",
       "      <th>Thriller</th>\n",
       "      <th>avg_rating</th>\n",
       "      <th>num_ratings</th>\n",
       "      <th>last_rating</th>\n",
       "    </tr>\n",
       "    <tr>\n",
       "      <th>movie_id</th>\n",
       "      <th></th>\n",
       "      <th></th>\n",
       "      <th></th>\n",
       "      <th></th>\n",
       "      <th></th>\n",
       "      <th></th>\n",
       "      <th></th>\n",
       "      <th></th>\n",
       "      <th></th>\n",
       "      <th></th>\n",
       "      <th></th>\n",
       "      <th></th>\n",
       "      <th></th>\n",
       "      <th></th>\n",
       "      <th></th>\n",
       "      <th></th>\n",
       "      <th></th>\n",
       "      <th></th>\n",
       "      <th></th>\n",
       "      <th></th>\n",
       "      <th></th>\n",
       "    </tr>\n",
       "  </thead>\n",
       "  <tbody>\n",
       "    <tr>\n",
       "      <th>4921860</th>\n",
       "      <td>MSG 2 the Messenger (2015)</td>\n",
       "      <td>Comedy|Drama|Fantasy</td>\n",
       "      <td>2015</td>\n",
       "      <td>0</td>\n",
       "      <td>0</td>\n",
       "      <td>1</td>\n",
       "      <td>0</td>\n",
       "      <td>0</td>\n",
       "      <td>0</td>\n",
       "      <td>0</td>\n",
       "      <td>...</td>\n",
       "      <td>0</td>\n",
       "      <td>0</td>\n",
       "      <td>0</td>\n",
       "      <td>1</td>\n",
       "      <td>0</td>\n",
       "      <td>0</td>\n",
       "      <td>0</td>\n",
       "      <td>10.0</td>\n",
       "      <td>48</td>\n",
       "      <td>2016-08-14 17:16:50</td>\n",
       "    </tr>\n",
       "    <tr>\n",
       "      <th>5262972</th>\n",
       "      <td>Avengers: Age of Ultron Parody (2015)</td>\n",
       "      <td>Short|Comedy</td>\n",
       "      <td>2015</td>\n",
       "      <td>0</td>\n",
       "      <td>0</td>\n",
       "      <td>1</td>\n",
       "      <td>0</td>\n",
       "      <td>0</td>\n",
       "      <td>0</td>\n",
       "      <td>0</td>\n",
       "      <td>...</td>\n",
       "      <td>0</td>\n",
       "      <td>0</td>\n",
       "      <td>0</td>\n",
       "      <td>1</td>\n",
       "      <td>1</td>\n",
       "      <td>0</td>\n",
       "      <td>0</td>\n",
       "      <td>10.0</td>\n",
       "      <td>28</td>\n",
       "      <td>2016-01-08 00:44:43</td>\n",
       "    </tr>\n",
       "    <tr>\n",
       "      <th>5688932</th>\n",
       "      <td>Sorry to Bother You (2018)</td>\n",
       "      <td>Comedy|Fantasy|Sci-Fi</td>\n",
       "      <td>2018</td>\n",
       "      <td>0</td>\n",
       "      <td>0</td>\n",
       "      <td>1</td>\n",
       "      <td>0</td>\n",
       "      <td>0</td>\n",
       "      <td>0</td>\n",
       "      <td>0</td>\n",
       "      <td>...</td>\n",
       "      <td>0</td>\n",
       "      <td>0</td>\n",
       "      <td>0</td>\n",
       "      <td>1</td>\n",
       "      <td>0</td>\n",
       "      <td>0</td>\n",
       "      <td>0</td>\n",
       "      <td>10.0</td>\n",
       "      <td>14</td>\n",
       "      <td>2018-06-17 01:44:48</td>\n",
       "    </tr>\n",
       "    <tr>\n",
       "      <th>2737018</th>\n",
       "      <td>Selam (2013)</td>\n",
       "      <td>Drama|Romance</td>\n",
       "      <td>2013</td>\n",
       "      <td>0</td>\n",
       "      <td>0</td>\n",
       "      <td>1</td>\n",
       "      <td>0</td>\n",
       "      <td>0</td>\n",
       "      <td>0</td>\n",
       "      <td>0</td>\n",
       "      <td>...</td>\n",
       "      <td>0</td>\n",
       "      <td>0</td>\n",
       "      <td>0</td>\n",
       "      <td>0</td>\n",
       "      <td>0</td>\n",
       "      <td>0</td>\n",
       "      <td>0</td>\n",
       "      <td>10.0</td>\n",
       "      <td>10</td>\n",
       "      <td>2015-05-10 22:56:01</td>\n",
       "    </tr>\n",
       "    <tr>\n",
       "      <th>2560840</th>\n",
       "      <td>Quiet Riot: Well Now You're Here, There's No W...</td>\n",
       "      <td>Documentary|Music</td>\n",
       "      <td>2014</td>\n",
       "      <td>0</td>\n",
       "      <td>0</td>\n",
       "      <td>1</td>\n",
       "      <td>0</td>\n",
       "      <td>0</td>\n",
       "      <td>0</td>\n",
       "      <td>0</td>\n",
       "      <td>...</td>\n",
       "      <td>0</td>\n",
       "      <td>1</td>\n",
       "      <td>0</td>\n",
       "      <td>0</td>\n",
       "      <td>0</td>\n",
       "      <td>0</td>\n",
       "      <td>0</td>\n",
       "      <td>10.0</td>\n",
       "      <td>6</td>\n",
       "      <td>2016-01-23 00:30:44</td>\n",
       "    </tr>\n",
       "  </tbody>\n",
       "</table>\n",
       "<p>5 rows × 37 columns</p>\n",
       "</div>"
      ],
      "text/plain": [
       "                                                      movie  \\\n",
       "movie_id                                                      \n",
       "4921860                          MSG 2 the Messenger (2015)   \n",
       "5262972               Avengers: Age of Ultron Parody (2015)   \n",
       "5688932                          Sorry to Bother You (2018)   \n",
       "2737018                                        Selam (2013)   \n",
       "2560840   Quiet Riot: Well Now You're Here, There's No W...   \n",
       "\n",
       "                          genre  date  1800's  1900's  2000's  History  News  \\\n",
       "movie_id                                                                       \n",
       "4921860    Comedy|Drama|Fantasy  2015       0       0       1        0     0   \n",
       "5262972            Short|Comedy  2015       0       0       1        0     0   \n",
       "5688932   Comedy|Fantasy|Sci-Fi  2018       0       0       1        0     0   \n",
       "2737018           Drama|Romance  2013       0       0       1        0     0   \n",
       "2560840       Documentary|Music  2014       0       0       1        0     0   \n",
       "\n",
       "          Horror  Musical         ...           Action  Documentary  \\\n",
       "movie_id                          ...                                 \n",
       "4921860        0        0         ...                0            0   \n",
       "5262972        0        0         ...                0            0   \n",
       "5688932        0        0         ...                0            0   \n",
       "2737018        0        0         ...                0            0   \n",
       "2560840        0        0         ...                0            1   \n",
       "\n",
       "          Animation  Comedy  Short  Western  Thriller  avg_rating  \\\n",
       "movie_id                                                            \n",
       "4921860           0       1      0        0         0        10.0   \n",
       "5262972           0       1      1        0         0        10.0   \n",
       "5688932           0       1      0        0         0        10.0   \n",
       "2737018           0       0      0        0         0        10.0   \n",
       "2560840           0       0      0        0         0        10.0   \n",
       "\n",
       "          num_ratings          last_rating  \n",
       "movie_id                                    \n",
       "4921860            48  2016-08-14 17:16:50  \n",
       "5262972            28  2016-01-08 00:44:43  \n",
       "5688932            14  2018-06-17 01:44:48  \n",
       "2737018            10  2015-05-10 22:56:01  \n",
       "2560840             6  2016-01-23 00:30:44  \n",
       "\n",
       "[5 rows x 37 columns]"
      ]
     },
     "execution_count": 28,
     "metadata": {},
     "output_type": "execute_result"
    }
   ],
   "source": [
    "ranked_movies.head()"
   ]
  },
  {
   "cell_type": "code",
   "execution_count": 31,
   "metadata": {},
   "outputs": [
    {
     "name": "stdout",
     "output_type": "stream",
     "text": [
      "If you got here, looks like you are good to go!  Nice job!\n"
     ]
    }
   ],
   "source": [
    "# check 1 \n",
    "assert t.popular_recommendations('1', 20, ranked_movies) == recs_20_for_1,  \"The first check failed...\"\n",
    "# check 2\n",
    "assert t.popular_recommendations('53968', 5, ranked_movies) == recs_5_for_53968,  \"The second check failed...\"\n",
    "# check 3\n",
    "assert t.popular_recommendations('70000', 100, ranked_movies) == recs_100_for_70000,  \"The third check failed...\"\n",
    "# check 4\n",
    "assert t.popular_recommendations('43', 35, ranked_movies) == recs_35_for_43,  \"The fourth check failed...\"\n",
    "\n",
    "print(\"If you got here, looks like you are good to go!  Nice job!\")"
   ]
  },
  {
   "cell_type": "code",
   "execution_count": 32,
   "metadata": {},
   "outputs": [
    {
     "data": {
      "text/plain": [
       "(['MSG 2 the Messenger (2015)',\n",
       "  'Avengers: Age of Ultron Parody (2015)',\n",
       "  'Sorry to Bother You (2018)',\n",
       "  'Selam (2013)',\n",
       "  \"Quiet Riot: Well Now You're Here, There's No Way Back (2014)\",\n",
       "  'Crawl Bitch Crawl (2012)',\n",
       "  'Make Like a Dog (2015)',\n",
       "  'Pandorica (2016)',\n",
       "  'Third Contact (2011)',\n",
       "  'Romeo Juliet (2009)',\n",
       "  'Be Somebody (2016)',\n",
       "  'Birlesen Gonuller (2014)',\n",
       "  'Agnelli (2017)',\n",
       "  'Sátántangó (1994)',\n",
       "  'Shijie (2004)',\n",
       "  'Foster (2011)',\n",
       "  'CM101MMXI Fundamentals (2013)',\n",
       "  'Akahige (1965)',\n",
       "  'Crystal Lake Memories: The Complete History of Friday the 13th (2013)',\n",
       "  'Körkarlen (1921)'],\n",
       " ['MSG 2 the Messenger (2015)',\n",
       "  'Avengers: Age of Ultron Parody (2015)',\n",
       "  'Sorry to Bother You (2018)',\n",
       "  'Selam (2013)',\n",
       "  \"Quiet Riot: Well Now You're Here, There's No Way Back (2014)\",\n",
       "  'Crawl Bitch Crawl (2012)',\n",
       "  'Make Like a Dog (2015)',\n",
       "  'Pandorica (2016)',\n",
       "  'Third Contact (2011)',\n",
       "  'Romeo Juliet (2009)',\n",
       "  'Be Somebody (2016)',\n",
       "  'Birlesen Gonuller (2014)',\n",
       "  'Agnelli (2017)',\n",
       "  'Sátántangó (1994)',\n",
       "  'Shijie (2004)',\n",
       "  'Foster (2011)',\n",
       "  'CM101MMXI Fundamentals (2013)',\n",
       "  'Akahige (1965)',\n",
       "  'Crystal Lake Memories: The Complete History of Friday the 13th (2013)',\n",
       "  'Körkarlen (1921)'])"
      ]
     },
     "execution_count": 32,
     "metadata": {},
     "output_type": "execute_result"
    }
   ],
   "source": [
    "t.popular_recommendations('1', 20, ranked_movies), recs_20_for_1"
   ]
  },
  {
   "cell_type": "markdown",
   "metadata": {},
   "source": [
    "**Notice:** This wasn't the only way we could have determined the \"top rated\" movies.  You can imagine that in keeping track of trending news or trending social events, you would likely want to create a time window from the current time, and then pull the articles in the most recent time frame.  There are always going to be some subjective decisions to be made.  \n",
    "\n",
    "If you find that no one is paying any attention to your most popular recommendations, then it might be time to find a new way to recommend, which is what the next parts of the lesson should prepare us to do!\n"
   ]
  },
  {
   "cell_type": "markdown",
   "metadata": {},
   "source": [
    "### Part II: Adding Filters\n",
    "\n",
    "Now that you have created a function to give back the **n_top** movies, let's make it a bit more robust.  Add arguments that will act as filters for the movie **year** and **genre**.  \n",
    "\n",
    "Use the cells below to adjust your existing function to allow for **year** and **genre** arguments as **lists** of **strings**.  Then your ending results are filtered to only movies within the lists of provided years and genres (as `or` conditions).  If no list is provided, there should be no filter applied.\n",
    "\n",
    "You can adjust other necessary inputs as necessary to retrieve the final results you are looking for!\n",
    "\n",
    "Try writing a few tests against the test function in our test function.  Below returns the top 20 movies for user 1 based on the specified year and genre filters.  Does yours return the same? \n",
    "\n",
    "```\n",
    "t.popular_recs_filtered('1', 20, ranked_movies, years=['2015', '2016', '2017', '2018'], genres=['History'])\n",
    "```"
   ]
  },
  {
   "cell_type": "code",
   "execution_count": 36,
   "metadata": {},
   "outputs": [],
   "source": [
    "def popular_recs_filtered(user_id, n_top, ranked_movies, years=[], genres=[]):\n",
    "    '''\n",
    "    INPUT:\n",
    "    user_id - the user_id of the individual you are making recommendations for\n",
    "    n_top - an integer of the number recommendations you want back\n",
    "    ranked_movies - a dataframe with movies that are sorted by highest avg rating, more reviews, \n",
    "                    then time, and must have more than 4 ratings\n",
    "    years - a list of years to filter results on\n",
    "    genres - a list of genres to filter results on\n",
    "    OUTPUT:\n",
    "    top_movies - a list of the n_top recommended movies by movie title in order best to worst\n",
    "    '''\n",
    "    # Do stuff\n",
    "\n",
    "    # Filter movies based on year and genre\n",
    "    if years is not None:\n",
    "        ranked_movies = ranked_movies[ranked_movies['date'].isin(years)]\n",
    "\n",
    "    if genres is not None:\n",
    "        num_genre_match = ranked_movies[genres].sum(axis=1)\n",
    "        ranked_movies = ranked_movies.loc[num_genre_match > 0, :]\n",
    "    \n",
    "    top_movies = ranked_movies.movie.tolist()[:n_top]\n",
    "    \n",
    "    return top_movies # a list of the n_top movies as recommended"
   ]
  },
  {
   "cell_type": "code",
   "execution_count": 34,
   "metadata": {},
   "outputs": [
    {
     "data": {
      "text/plain": [
       "['Ayla: The Daughter of War (2017)',\n",
       " 'I Believe in Miracles (2015)',\n",
       " 'The Farthest (2017)',\n",
       " 'Sado (2015)',\n",
       " 'Hatred (2016)',\n",
       " 'Kincsem (2017)',\n",
       " 'Nise - O Coração da Loucura (2015)',\n",
       " 'LA 92 (2017)',\n",
       " 'Straight Outta Compton (2015)',\n",
       " 'Manjhi: The Mountain Man (2015)',\n",
       " 'Only the Dead (2015)',\n",
       " 'Spotlight (2015)',\n",
       " 'Under sandet (2015)',\n",
       " 'Airlift (2016)',\n",
       " 'Dunkirk (2017)',\n",
       " 'Taeksi Woonjunsa (2017)',\n",
       " 'The Battleship Island (2017)',\n",
       " 'Darkest Hour (2017)',\n",
       " 'Best of Enemies (2015)',\n",
       " 'The Ghazi Attack (2017)']"
      ]
     },
     "execution_count": 34,
     "metadata": {},
     "output_type": "execute_result"
    }
   ],
   "source": [
    "t.popular_recs_filtered('1', 20, ranked_movies, years=['2015', '2016', '2017', '2018'], genres=['History'])"
   ]
  },
  {
   "cell_type": "code",
   "execution_count": 37,
   "metadata": {},
   "outputs": [
    {
     "data": {
      "text/plain": [
       "['Ayla: The Daughter of War (2017)',\n",
       " 'I Believe in Miracles (2015)',\n",
       " 'The Farthest (2017)',\n",
       " 'Sado (2015)',\n",
       " 'Hatred (2016)',\n",
       " 'Kincsem (2017)',\n",
       " 'Nise - O Coração da Loucura (2015)',\n",
       " 'LA 92 (2017)',\n",
       " 'Straight Outta Compton (2015)',\n",
       " 'Manjhi: The Mountain Man (2015)',\n",
       " 'Only the Dead (2015)',\n",
       " 'Spotlight (2015)',\n",
       " 'Under sandet (2015)',\n",
       " 'Airlift (2016)',\n",
       " 'Dunkirk (2017)',\n",
       " 'Taeksi Woonjunsa (2017)',\n",
       " 'The Battleship Island (2017)',\n",
       " 'Darkest Hour (2017)',\n",
       " 'Best of Enemies (2015)',\n",
       " 'The Ghazi Attack (2017)']"
      ]
     },
     "execution_count": 37,
     "metadata": {},
     "output_type": "execute_result"
    }
   ],
   "source": [
    "popular_recs_filtered('1', 20, ranked_movies, years=['2015', '2016', '2017', '2018'], genres=['History'])"
   ]
  }
 ],
 "metadata": {
  "kernelspec": {
   "display_name": "Python 3",
   "language": "python",
   "name": "python3"
  },
  "language_info": {
   "codemirror_mode": {
    "name": "ipython",
    "version": 3
   },
   "file_extension": ".py",
   "mimetype": "text/x-python",
   "name": "python",
   "nbconvert_exporter": "python",
   "pygments_lexer": "ipython3",
   "version": "3.6.3"
  }
 },
 "nbformat": 4,
 "nbformat_minor": 2
}
