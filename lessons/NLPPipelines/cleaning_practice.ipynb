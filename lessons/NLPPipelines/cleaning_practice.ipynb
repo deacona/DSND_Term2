{
 "cells": [
  {
   "cell_type": "markdown",
   "metadata": {},
   "source": [
    "# Cleaning Quiz: Udacity's Course Catalog\n",
    "It's your turn! Udacity's [course catalog page](https://www.udacity.com/courses/all) has changed since the last video was filmed. One notable change is the introduction of  _schools_.\n",
    "\n",
    "In this activity, you're going to perform similar actions with BeautifulSoup to extract the following information from each course listing on the page:\n",
    "1. The course name - e.g. \"Data Analyst\"\n",
    "2. The school the course belongs to - e.g. \"School of Data Science\"\n",
    "\n",
    "**Note: All solution notebooks can be found by clicking on the Jupyter icon on the top left of this workspace.**"
   ]
  },
  {
   "cell_type": "markdown",
   "metadata": {},
   "source": [
    "### Step 1: Get text from Udacity's course catalog web page\n",
    "You can use the `requests` library to do this.\n",
    "\n",
    "Outputting all the javascript, CSS, and text may overload the space available to load this notebook, so we omit a print statement here."
   ]
  },
  {
   "cell_type": "code",
   "execution_count": 4,
   "metadata": {},
   "outputs": [],
   "source": [
    "# import statements\n",
    "import requests\n",
    "from bs4 import BeautifulSoup"
   ]
  },
  {
   "cell_type": "code",
   "execution_count": 5,
   "metadata": {},
   "outputs": [],
   "source": [
    "# fetch web page\n",
    "r = requests.get(\"https://www.udacity.com/courses/all\")"
   ]
  },
  {
   "cell_type": "markdown",
   "metadata": {},
   "source": [
    "### Step 2: Use BeautifulSoup to remove HTML tags\n",
    "Use `\"lxml\"` rather than `\"html5lib\"`.\n",
    "\n",
    "Again, printing this entire result may overload the space available to load this notebook, so we omit a print statement here."
   ]
  },
  {
   "cell_type": "code",
   "execution_count": 7,
   "metadata": {},
   "outputs": [],
   "source": [
    "soup = BeautifulSoup(r.content, \"lxml\")"
   ]
  },
  {
   "cell_type": "markdown",
   "metadata": {},
   "source": [
    "### Step 3: Find all course summaries\n",
    "Use the BeautifulSoup's `find_all` method to select based on tag type and class name. Just like in the video, you can right click on the item, and click \"Inspect\" to view its html on a web page."
   ]
  },
  {
   "cell_type": "code",
   "execution_count": 8,
   "metadata": {},
   "outputs": [
    {
     "name": "stdout",
     "output_type": "stream",
     "text": [
      "Number of Courses: 234\n"
     ]
    }
   ],
   "source": [
    "# Find all course summaries\n",
    "summaries = soup.find_all(attrs={'class': \"card-content\"})\n",
    "print('Number of Courses:', len(summaries))"
   ]
  },
  {
   "cell_type": "markdown",
   "metadata": {},
   "source": [
    "### Step 4: Inspect the first summary to find selectors for the course name and school\n",
    "Tip: `.prettify()` is a super helpful method BeautifulSoup provides to output html in a nicely indented form! Make sure to use `print()` to ensure whitespace is displayed properly."
   ]
  },
  {
   "cell_type": "code",
   "execution_count": 11,
   "metadata": {},
   "outputs": [
    {
     "name": "stdout",
     "output_type": "stream",
     "text": [
      "<div _ngcontent-sc214=\"\" class=\"card-content\">\n",
      " <!-- -->\n",
      " <span _ngcontent-sc214=\"\" class=\"tag tag--new card ng-star-inserted\">\n",
      "  New\n",
      " </span>\n",
      " <!-- -->\n",
      " <div _ngcontent-sc214=\"\" class=\"category-wrapper\">\n",
      "  <span _ngcontent-sc214=\"\" class=\"mobile-icon\">\n",
      "  </span>\n",
      "  <!-- -->\n",
      "  <h4 _ngcontent-sc214=\"\" class=\"category ng-star-inserted\">\n",
      "   School of Business\n",
      "  </h4>\n",
      " </div>\n",
      " <h3 _ngcontent-sc214=\"\" class=\"card-heading\">\n",
      "  <a _ngcontent-sc214=\"\" class=\"capitalize\" href=\"/course/ux-designer-nanodegree--nd578\">\n",
      "   UX Designer\n",
      "  </a>\n",
      " </h3>\n",
      " <div _ngcontent-sc214=\"\" class=\"right-sub\">\n",
      "  <!-- -->\n",
      "  <div _ngcontent-sc214=\"\" class=\"skills ng-star-inserted\">\n",
      "   <h4 _ngcontent-sc214=\"\">\n",
      "    Skills Covered\n",
      "   </h4>\n",
      "   <span _ngcontent-sc214=\"\" class=\"truncate-content\">\n",
      "    <!-- -->\n",
      "    <span _ngcontent-sc214=\"\" class=\"ng-star-inserted\">\n",
      "     User Research,\n",
      "    </span>\n",
      "    <span _ngcontent-sc214=\"\" class=\"ng-star-inserted\">\n",
      "     User Experience,\n",
      "    </span>\n",
      "    <span _ngcontent-sc214=\"\" class=\"ng-star-inserted\">\n",
      "     Prototyping,\n",
      "    </span>\n",
      "    <span _ngcontent-sc214=\"\" class=\"ng-star-inserted\">\n",
      "     Interactive Design,\n",
      "    </span>\n",
      "    <span _ngcontent-sc214=\"\" class=\"ng-star-inserted\">\n",
      "     User Interface Design,\n",
      "    </span>\n",
      "    <span _ngcontent-sc214=\"\" class=\"ng-star-inserted\">\n",
      "     Usability Testing\n",
      "    </span>\n",
      "   </span>\n",
      "  </div>\n",
      "  <!-- -->\n",
      "  <div _ngcontent-sc214=\"\" class=\"hidden-md-up level\">\n",
      "   <span _ngcontent-sc214=\"\" class=\"course-level course-level-beginner\" classname=\"course-level course-level-beginner\">\n",
      "   </span>\n",
      "   <span _ngcontent-sc214=\"\" class=\"capitalize\">\n",
      "    beginner\n",
      "   </span>\n",
      "  </div>\n",
      " </div>\n",
      "</div>\n"
     ]
    }
   ],
   "source": [
    "# print the first summary in summaries\n",
    "print(summaries[0].prettify())"
   ]
  },
  {
   "cell_type": "markdown",
   "metadata": {},
   "source": [
    "Look for selectors that contain the courses title and school name text you want to extract. Then, use the `select_one` method on the summary object to pull out the html with those selectors. Afterwards, don't forget to do some extra cleaning to isolate the names (get rid of unnecessary html), as you saw in the last video."
   ]
  },
  {
   "cell_type": "code",
   "execution_count": 14,
   "metadata": {},
   "outputs": [
    {
     "data": {
      "text/plain": [
       "'UX Designer'"
      ]
     },
     "execution_count": 14,
     "metadata": {},
     "output_type": "execute_result"
    }
   ],
   "source": [
    "# Extract course title\n",
    "summaries[0].select_one(\".card-heading\").text"
   ]
  },
  {
   "cell_type": "code",
   "execution_count": 17,
   "metadata": {},
   "outputs": [
    {
     "data": {
      "text/plain": [
       "'School of Business'"
      ]
     },
     "execution_count": 17,
     "metadata": {},
     "output_type": "execute_result"
    }
   ],
   "source": [
    "# Extract school\n",
    "summaries[0].select_one(\".category-wrapper\").text.strip()"
   ]
  },
  {
   "cell_type": "markdown",
   "metadata": {},
   "source": [
    "### Step 5: Collect names and schools of ALL course listings\n",
    "Reuse your code from the previous step, but now in a loop to extract the name and school from every course summary in `summaries`!"
   ]
  },
  {
   "cell_type": "code",
   "execution_count": 18,
   "metadata": {},
   "outputs": [],
   "source": [
    "courses = []\n",
    "for summary in summaries:\n",
    "    # append name and school of each summary to courses list\n",
    "    courses.append(summary.select_one(\".card-heading\").text + \" - \" + summary.select_one(\".category-wrapper\").text.strip())"
   ]
  },
  {
   "cell_type": "code",
   "execution_count": 19,
   "metadata": {},
   "outputs": [
    {
     "name": "stdout",
     "output_type": "stream",
     "text": [
      "234 course summaries found. Sample:\n"
     ]
    },
    {
     "data": {
      "text/plain": [
       "['UX Designer - School of Business',\n",
       " 'Data Streaming - School of Data Science',\n",
       " 'Front End Web Developer - School of Programming',\n",
       " 'Full Stack Web Developer - School of Programming',\n",
       " 'Java Developer - School of Programming',\n",
       " 'AI Product Manager - School of Artificial Intelligence',\n",
       " 'Sensor Fusion Engineer - School of Autonomous Systems',\n",
       " 'Data Visualization - School of Data Science',\n",
       " 'Cloud Developer - School of Cloud Computing',\n",
       " 'Cloud DevOps Engineer - School of Cloud Computing',\n",
       " 'Intro to Machine Learning - School of Artificial Intelligence',\n",
       " 'C++ - School of Autonomous Systems',\n",
       " 'Data Structures and Algorithms - School of Programming',\n",
       " 'Programming for Data Science with R - School of Data Science',\n",
       " 'Data Engineer - School of Data Science',\n",
       " 'Marketing Analytics - School of Business',\n",
       " 'Introduction to Programming - School of Programming',\n",
       " 'Data Analyst - School of Data Science',\n",
       " 'iOS Developer - School of Programming',\n",
       " 'Predictive Analytics for Business - School of Business']"
      ]
     },
     "execution_count": 19,
     "metadata": {},
     "output_type": "execute_result"
    }
   ],
   "source": [
    "# display results\n",
    "print(len(courses), \"course summaries found. Sample:\")\n",
    "courses[:20]"
   ]
  }
 ],
 "metadata": {
  "kernelspec": {
   "display_name": "Python 3",
   "language": "python",
   "name": "python3"
  },
  "language_info": {
   "codemirror_mode": {
    "name": "ipython",
    "version": 3
   },
   "file_extension": ".py",
   "mimetype": "text/x-python",
   "name": "python",
   "nbconvert_exporter": "python",
   "pygments_lexer": "ipython3",
   "version": "3.6.3"
  }
 },
 "nbformat": 4,
 "nbformat_minor": 2
}
